{
 "cells": [
  {
   "cell_type": "code",
   "execution_count": 1,
   "id": "a2b6c832",
   "metadata": {},
   "outputs": [],
   "source": [
    "import numpy as np\n",
    "import meshplot as mp\n",
    "import time \n",
    "\n",
    "from meshplot import plot, subplot, interact\n",
    "from meshplot import Viewer\n"
   ]
  },
  {
   "cell_type": "markdown",
   "id": "007de20d",
   "metadata": {},
   "source": [
    "## PLOT JIGGLING SMPL ANIMATION"
   ]
  },
  {
   "cell_type": "code",
   "execution_count": 2,
   "id": "4ad9092d",
   "metadata": {},
   "outputs": [
    {
     "name": "stdout",
     "output_type": "stream",
     "text": [
      "(268, 6890, 3) (13776, 3)\n"
     ]
    }
   ],
   "source": [
    "IS_SMPL = False\n",
    "anim_mode = \"smpl\" if IS_SMPL else \"dfaust\"\n",
    "\n",
    "with np.load(\"./results/unposed_{}.npz\".format(anim_mode)) as data:\n",
    "    V = data['arr_0']\n",
    "    \n",
    "with np.load(\"./results/skinning_T_pose_data.npz\") as data:\n",
    "    f = data['arr_1'] \n",
    "   \n",
    "\n",
    "print(V.shape, f.shape)"
   ]
  },
  {
   "cell_type": "code",
   "execution_count": 3,
   "id": "746959d3",
   "metadata": {},
   "outputs": [
    {
     "data": {
      "application/vnd.jupyter.widget-view+json": {
       "model_id": "ab41c7741de24b4a9e692bd19fcc0cd8",
       "version_major": 2,
       "version_minor": 0
      },
      "text/plain": [
       "Renderer(camera=PerspectiveCamera(children=(DirectionalLight(color='white', intensity=0.6, position=(0.0121861…"
      ]
     },
     "metadata": {},
     "output_type": "display_data"
    },
    {
     "ename": "KeyboardInterrupt",
     "evalue": "",
     "output_type": "error",
     "traceback": [
      "\u001b[0;31m---------------------------------------------------------------------------\u001b[0m",
      "\u001b[0;31mKeyboardInterrupt\u001b[0m                         Traceback (most recent call last)",
      "Cell \u001b[0;32mIn[3], line 10\u001b[0m\n\u001b[1;32m      8\u001b[0m p\u001b[38;5;241m.\u001b[39mupdate_object(vertices\u001b[38;5;241m=\u001b[39mv_new)\n\u001b[1;32m      9\u001b[0m v \u001b[38;5;241m=\u001b[39m v_new\n\u001b[0;32m---> 10\u001b[0m \u001b[43mtime\u001b[49m\u001b[38;5;241;43m.\u001b[39;49m\u001b[43msleep\u001b[49m\u001b[43m(\u001b[49m\u001b[38;5;241;43m0.1\u001b[39;49m\u001b[43m)\u001b[49m\n",
      "\u001b[0;31mKeyboardInterrupt\u001b[0m: "
     ]
    }
   ],
   "source": [
    "v = V[0]\n",
    "p = mp.plot(v, f)\n",
    "\n",
    "num_sequence = V.shape[0]\n",
    "for j in range(10):\n",
    "    for i in range(num_sequence):\n",
    "        v_new = V[i]\n",
    "        p.update_object(vertices=v_new)\n",
    "        v = v_new\n",
    "        time.sleep(0.1) # depending on how long your simulation step takes you want to wait for a little while\n"
   ]
  },
  {
   "cell_type": "code",
   "execution_count": null,
   "id": "54f3fa87",
   "metadata": {},
   "outputs": [],
   "source": []
  },
  {
   "cell_type": "code",
   "execution_count": null,
   "id": "d61d0d1b",
   "metadata": {},
   "outputs": [],
   "source": []
  }
 ],
 "metadata": {
  "kernelspec": {
   "display_name": "Python 3 (ipykernel)",
   "language": "python",
   "name": "python3"
  },
  "language_info": {
   "codemirror_mode": {
    "name": "ipython",
    "version": 3
   },
   "file_extension": ".py",
   "mimetype": "text/x-python",
   "name": "python",
   "nbconvert_exporter": "python",
   "pygments_lexer": "ipython3",
   "version": "3.9.18"
  }
 },
 "nbformat": 4,
 "nbformat_minor": 5
}
