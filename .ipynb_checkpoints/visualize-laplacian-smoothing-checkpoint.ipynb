{
 "cells": [
  {
   "cell_type": "markdown",
   "id": "7c389918",
   "metadata": {},
   "source": [
    "## Compute Laplacian"
   ]
  },
  {
   "cell_type": "code",
   "execution_count": 3,
   "id": "d16bf43a",
   "metadata": {},
   "outputs": [],
   "source": [
    "import os\n",
    "import igl\n",
    "import time\n",
    "import numpy as np\n",
    "import torch\n",
    "import meshplot as mp\n",
    "\n",
    "from smpl_torch_batch import SMPLModel\n",
    "\n",
    "training_data = torch.load('./data/50004_dataset.pt')\n",
    "data_loader = torch.utils.data.DataLoader(training_data, batch_size=1, shuffle=False)\n",
    "\n",
    "device = \"cpu\"\n",
    "smpl_model = SMPLModel(device=device, model_path='./body_models/smpl/female/model.pkl')\n",
    "\n",
    "for data in data_loader:\n",
    "    target_verts = data[1].squeeze()\n",
    "    V = np.array(target_verts, dtype=float)\n",
    "    F = np.array(smpl_model.faces, dtype=int)\n",
    "    break\n",
    "    "
   ]
  },
  {
   "cell_type": "code",
   "execution_count": 4,
   "id": "c03f6a19",
   "metadata": {},
   "outputs": [
    {
     "name": "stdout",
     "output_type": "stream",
     "text": [
      ">> Loaded smoothing operator. \n"
     ]
    }
   ],
   "source": [
    "## Get Smoothed Animation\n",
    "\n",
    "smoothing_steps = 10\n",
    "\n",
    "with np.load(\"./results/smoothing_operator.npz\") as file:\n",
    "    precomputed_S = file['arr_0']\n",
    "print(\">> Loaded smoothing operator. \")\n",
    "\n",
    "v_smoothed = []\n",
    "anim_length = precomputed_S.shape[0]\n",
    "for i in range(anim_length):\n",
    "    v_smoothed.append(V[i])\n",
    "    \n",
    "    for j in range(smoothing_steps):\n",
    "            v_smoothed[i] = precomputed_S[i] @ v_smoothed[i] \n"
   ]
  },
  {
   "cell_type": "code",
   "execution_count": 6,
   "id": "e40f3642",
   "metadata": {
    "scrolled": true
   },
   "outputs": [],
   "source": [
    "# PLOT THE SMOOTHED ANIMATION\n",
    "\n",
    "v_start = V[0] #v_smoothed[0]\n",
    "p = mp.plot(v_start, F)\n",
    "\n",
    "for k in range(1):\n",
    "    for i in range(anim_length):\n",
    "\n",
    "        v_new = v_smoothed[i]\n",
    "\n",
    "        p.update_object(vertices=v_new)\n",
    "        v = v_new\n",
    "        time.sleep(0.05)\n"
   ]
  },
  {
   "cell_type": "markdown",
   "id": "a9549139",
   "metadata": {},
   "source": [
    "## Precompute Smoothing Operator"
   ]
  },
  {
   "cell_type": "code",
   "execution_count": null,
   "id": "bd6643e9",
   "metadata": {},
   "outputs": [],
   "source": [
    "anim_length = V.shape[0]\n",
    "num_verts = V.shape[1]\n",
    "precomputed_S = []\n",
    "for i in range(anim_length):\n",
    "        \n",
    "    L = igl.cotmatrix(V[i], F)\n",
    "    S = np.eye(num_verts) - 0.5 * L\n",
    "    precomputed_S.append(S)\n",
    "    \n",
    "    if i+1 % 10 == 0:\n",
    "        print(\">> Step \", i, \"...\")\n",
    "\n",
    "np.savez(\"./results/smoothing_operator.npz\", np.array(precomputed_S))\n",
    "print(\">> Finished precoumputation...\")"
   ]
  },
  {
   "cell_type": "code",
   "execution_count": null,
   "id": "aae5d773",
   "metadata": {},
   "outputs": [],
   "source": []
  }
 ],
 "metadata": {
  "kernelspec": {
   "display_name": "Python 3 (ipykernel)",
   "language": "python",
   "name": "python3"
  },
  "language_info": {
   "codemirror_mode": {
    "name": "ipython",
    "version": 3
   },
   "file_extension": ".py",
   "mimetype": "text/x-python",
   "name": "python",
   "nbconvert_exporter": "python",
   "pygments_lexer": "ipython3",
   "version": "3.9.18"
  }
 },
 "nbformat": 4,
 "nbformat_minor": 5
}
