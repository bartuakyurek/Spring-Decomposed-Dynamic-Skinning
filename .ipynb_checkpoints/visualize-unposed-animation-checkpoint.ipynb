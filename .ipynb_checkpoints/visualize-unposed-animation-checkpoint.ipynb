{
 "cells": [
  {
   "cell_type": "code",
   "execution_count": 1,
   "id": "a2b6c832",
   "metadata": {},
   "outputs": [],
   "source": [
    "import numpy as np\n",
    "import meshplot as mp\n",
    "import time \n",
    "\n",
    "from meshplot import plot, subplot, interact\n",
    "from meshplot import Viewer\n"
   ]
  },
  {
   "cell_type": "markdown",
   "id": "007de20d",
   "metadata": {},
   "source": [
    "## PLOT JIGGLING SMPL ANIMATION"
   ]
  },
  {
   "cell_type": "code",
   "execution_count": null,
   "id": "4ad9092d",
   "metadata": {},
   "outputs": [],
   "source": [
    "IS_SMPL = False\n",
    "anim_mode = \"smpl\" if IS_SMPL else \"dfaust\"\n",
    "\n",
    "with np.load(\"./results/unposed_{}.npz\".format(anim_mode)) as data:\n",
    "    V = data['arr_0']\n",
    "    \n",
    "with np.load(\"./results/skinning_T_pose_data.npz\") as data:\n",
    "    f = data['arr_1'] \n",
    "   \n",
    "\n",
    "print(V.shape, f.shape)"
   ]
  },
  {
   "cell_type": "code",
   "execution_count": null,
   "id": "746959d3",
   "metadata": {},
   "outputs": [],
   "source": [
    "v = V[0]\n",
    "p = mp.plot(v, f)\n",
    "\n",
    "num_sequence = V.shape[0]\n",
    "for j in range(10):\n",
    "    for i in range(num_sequence):\n",
    "        v_new = V[i]\n",
    "        p.update_object(vertices=v_new)\n",
    "        v = v_new\n",
    "        time.sleep(0.1) # depending on how long your simulation step takes you want to wait for a little while\n"
   ]
  },
  {
   "cell_type": "code",
   "execution_count": null,
   "id": "54f3fa87",
   "metadata": {},
   "outputs": [],
   "source": []
  },
  {
   "cell_type": "code",
   "execution_count": null,
   "id": "d61d0d1b",
   "metadata": {},
   "outputs": [],
   "source": []
  }
 ],
 "metadata": {
  "kernelspec": {
   "display_name": "Python 3 (ipykernel)",
   "language": "python",
   "name": "python3"
  },
  "language_info": {
   "codemirror_mode": {
    "name": "ipython",
    "version": 3
   },
   "file_extension": ".py",
   "mimetype": "text/x-python",
   "name": "python",
   "nbconvert_exporter": "python",
   "pygments_lexer": "ipython3",
   "version": "3.9.18"
  }
 },
 "nbformat": 4,
 "nbformat_minor": 5
}
