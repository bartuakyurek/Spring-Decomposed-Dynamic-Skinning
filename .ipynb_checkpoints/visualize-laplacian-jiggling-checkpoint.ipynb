{
 "cells": [
  {
   "cell_type": "code",
   "execution_count": null,
   "id": "a2b6c832",
   "metadata": {},
   "outputs": [],
   "source": [
    "import scipy as sp\n",
    "import numpy as np\n",
    "import meshplot as mp\n",
    "import time \n",
    "import igl \n",
    "\n",
    "from meshplot import plot, subplot, interact\n",
    "from meshplot import Viewer\n",
    "from matplotlib import cm\n",
    "import matplotlib.pyplot as plt"
   ]
  },
  {
   "cell_type": "markdown",
   "id": "007de20d",
   "metadata": {},
   "source": [
    "## PLOT JIGGLING SMPL ANIMATION"
   ]
  },
  {
   "cell_type": "code",
   "execution_count": null,
   "id": "4ad9092d",
   "metadata": {},
   "outputs": [],
   "source": [
    "\n",
    "with np.load(\"./results/laplace-beltrami-eigs.npz\") as data:\n",
    "    eigvals = data['arr_0']\n",
    "    eigvecs = data['arr_1']\n",
    "    \n",
    "num_eigvecs = eigvals.shape[0]\n",
    "\n",
    "OBJ_PATH = \"./results/SMPL-T.obj\"\n",
    "V, _, _, F, _, _ = igl.read_obj(OBJ_PATH)    \n",
    "V_normals = igl.per_vertex_normals(V, F)\n",
    "num_verts = V.shape[0]"
   ]
  },
  {
   "cell_type": "code",
   "execution_count": null,
   "id": "746959d3",
   "metadata": {},
   "outputs": [],
   "source": [
    "######### GET EIGENVECTOR COLOR MAP ########################\n",
    "selected_eigen = 1 # note that first eigenvector has index zero\n",
    "eigvec = np.real(eigvecs[:,selected_eigen])\n",
    "\n",
    "normalized_eigvec = eigvec - np.min(eigvec)\n",
    "normalized_eigvec /=   np.max(normalized_eigvec) \n",
    "\n",
    "colors = []\n",
    "for val in normalized_eigvec: \n",
    "    colors.append(cm.hot(val)[0:3])\n",
    "colors = np.array(colors)"
   ]
  },
  {
   "cell_type": "code",
   "execution_count": null,
   "id": "b8a01fc9",
   "metadata": {},
   "outputs": [],
   "source": [
    "####### GENERATE A SINE WAVE TO ADD ON LAPLACIAN ###########\n",
    "period = 0.25\n",
    "f = 1. / period\n",
    "\n",
    "duration = 155 # how many datapoints to generate\n",
    "interval = np.pi * 2 * f\n",
    "\n",
    "sine_signal = np.sin(np.arange(0, interval, interval / duration))\n",
    "\n",
    "print(sine_signal.shape)\n",
    "plt.plot(sine_signal)"
   ]
  },
  {
   "cell_type": "code",
   "execution_count": null,
   "id": "dc8e2c22",
   "metadata": {},
   "outputs": [],
   "source": [
    "p = mp.plot(V, F)\n",
    "DAMPER = 0.1 # Adjust the jiggling addition\n",
    "\n",
    "for i in range(duration):\n",
    "    eigvec_weights = np.repeat(normalized_eigvec[:,None], 3, 1) # Use the eigenfunction as weights of jiggling\n",
    "    delta_jiggle = sine_signal[i] * np.multiply(eigvec_weights, V_normals) \n",
    "    delta_jiggle *= DAMPER\n",
    "    \n",
    "    v_new = V + delta_jiggle\n",
    "    p.update_object(vertices=v_new, colors=colors)\n",
    "    time.sleep(0.1) # depending on how long your simulation step takes you want to wait for a little while\n",
    "    "
   ]
  },
  {
   "cell_type": "code",
   "execution_count": null,
   "id": "afcd0c6a",
   "metadata": {},
   "outputs": [],
   "source": []
  }
 ],
 "metadata": {
  "kernelspec": {
   "display_name": "Python 3 (ipykernel)",
   "language": "python",
   "name": "python3"
  },
  "language_info": {
   "codemirror_mode": {
    "name": "ipython",
    "version": 3
   },
   "file_extension": ".py",
   "mimetype": "text/x-python",
   "name": "python",
   "nbconvert_exporter": "python",
   "pygments_lexer": "ipython3",
   "version": "3.9.18"
  }
 },
 "nbformat": 4,
 "nbformat_minor": 5
}
