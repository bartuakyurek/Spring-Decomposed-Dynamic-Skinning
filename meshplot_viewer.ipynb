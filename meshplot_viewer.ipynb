{
 "cells": [
  {
   "cell_type": "code",
   "execution_count": 15,
   "id": "a2b6c832",
   "metadata": {},
   "outputs": [],
   "source": [
    "import scipy as sp\n",
    "import numpy as np\n",
    "import meshplot as mp\n",
    "import time \n",
    "\n",
    "from meshplot import plot, subplot, interact\n",
    "from meshplot import Viewer\n"
   ]
  },
  {
   "cell_type": "markdown",
   "id": "007de20d",
   "metadata": {},
   "source": [
    "## PLOT JIGGLING SMPL ANIMATION"
   ]
  },
  {
   "cell_type": "code",
   "execution_count": null,
   "id": "4ad9092d",
   "metadata": {},
   "outputs": [],
   "source": [
    "IS_RIGID = False\n",
    "anim_mode = \"rigid\" if IS_RIGID else \"jiggle\"\n",
    "\n",
    "with np.load(\"./results/anim_{}.npz\".format(anim_mode)) as data:\n",
    "    V = data['arr_0']\n",
    "    \n",
    "with np.load(\"./results/faces_{}.npz\".format(anim_mode)) as data:\n",
    "    f = data['arr_0']\n",
    "   \n",
    "if not IS_RIGID:\n",
    "    # Add color distances to jiggling animation\n",
    "    with np.load(\"./results/rb_color_mapping.npz\") as data:\n",
    "        C = data['arr_0']\n",
    "        \n",
    "print(V.shape, f.shape, C.shape)"
   ]
  },
  {
   "cell_type": "code",
   "execution_count": null,
   "id": "746959d3",
   "metadata": {},
   "outputs": [],
   "source": [
    "v = V[0]\n",
    "p = mp.plot(v, f)\n",
    "\n",
    "for j in range(10):\n",
    "    for i in range(58):\n",
    "        v_new = V[i]\n",
    "        p.update_object(vertices=v_new, colors=C[i])\n",
    "        v = v_new\n",
    "        time.sleep(0.1) # depending on how long your simulation step takes you want to wait for a little while\n",
    "    "
   ]
  },
  {
   "cell_type": "markdown",
   "id": "0db2caaa",
   "metadata": {},
   "source": [
    "## PLOT RIGID SMPL ANIMATION"
   ]
  },
  {
   "cell_type": "code",
   "execution_count": null,
   "id": "73adfc2f",
   "metadata": {},
   "outputs": [],
   "source": [
    "IS_RIGID = True\n",
    "anim_mode = \"rigid\" if IS_RIGID else \"jiggle\"\n",
    "\n",
    "with np.load(\"./results/anim_{}.npz\".format(anim_mode)) as data:\n",
    "    V = data['arr_0']\n",
    "    \n",
    "with np.load(\"./results/faces_{}.npz\".format(anim_mode)) as data:\n",
    "    f = data['arr_0']\n",
    "   \n",
    "if not IS_RIGID:\n",
    "    # Add color distances to jiggling animation\n",
    "    with np.load(\"./results/rb_color_mapping.npz\") as data:\n",
    "        c = data['arr_0']\n",
    "        \n",
    "print(V.shape, f.shape)"
   ]
  },
  {
   "cell_type": "code",
   "execution_count": null,
   "id": "faeecc07",
   "metadata": {},
   "outputs": [],
   "source": [
    "v = V[0]\n",
    "p = mp.plot(v, f)\n",
    "\n",
    "for i in range(59):\n",
    "    v_new = V[i]\n",
    "    p.update_object(vertices=v_new, colors=np.array([1.,1.,1.]))\n",
    "    v = v_new\n",
    "    time.sleep(0.1) # depending on how long your simulation step takes you want to wait for a little while\n"
   ]
  },
  {
   "cell_type": "code",
   "execution_count": 14,
   "id": "9d585204",
   "metadata": {},
   "outputs": [],
   "source": [
    "\n"
   ]
  },
  {
   "cell_type": "code",
   "execution_count": null,
   "id": "43d6c1ee",
   "metadata": {},
   "outputs": [],
   "source": []
  }
 ],
 "metadata": {
  "kernelspec": {
   "display_name": "Python 3 (ipykernel)",
   "language": "python",
   "name": "python3"
  },
  "language_info": {
   "codemirror_mode": {
    "name": "ipython",
    "version": 3
   },
   "file_extension": ".py",
   "mimetype": "text/x-python",
   "name": "python",
   "nbconvert_exporter": "python",
   "pygments_lexer": "ipython3",
   "version": "3.9.18"
  }
 },
 "nbformat": 4,
 "nbformat_minor": 5
}
