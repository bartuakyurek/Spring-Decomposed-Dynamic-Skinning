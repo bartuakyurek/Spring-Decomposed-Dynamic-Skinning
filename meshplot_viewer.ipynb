{
 "cells": [
  {
   "cell_type": "code",
   "execution_count": 1,
   "id": "a2b6c832",
   "metadata": {},
   "outputs": [],
   "source": [
    "import scipy as sp\n",
    "import numpy as np\n",
    "import meshplot as mp\n",
    "import time \n",
    "\n",
    "from meshplot import plot, subplot, interact\n",
    "from meshplot import Viewer\n"
   ]
  },
  {
   "cell_type": "markdown",
   "id": "007de20d",
   "metadata": {},
   "source": [
    "## PLOT JIGGLING SMPL ANIMATION"
   ]
  },
  {
   "cell_type": "code",
   "execution_count": 5,
   "id": "4ad9092d",
   "metadata": {},
   "outputs": [
    {
     "name": "stdout",
     "output_type": "stream",
     "text": [
      "(59, 10475, 3) (20908, 3) (58, 10475, 3)\n"
     ]
    }
   ],
   "source": [
    "IS_RIGID = False\n",
    "anim_mode = \"rigid\" if IS_RIGID else \"jiggle\"\n",
    "\n",
    "with np.load(\"./results/anim_{}.npz\".format(anim_mode)) as data:\n",
    "    V = data['arr_0']\n",
    "    \n",
    "with np.load(\"./results/faces_{}.npz\".format(anim_mode)) as data:\n",
    "    f = data['arr_0']\n",
    "   \n",
    "if not IS_RIGID:\n",
    "    # Add color distances to jiggling animation\n",
    "    with np.load(\"./results/rb_color_mapping.npz\") as data:\n",
    "        C = data['arr_0']\n",
    "        \n",
    "print(V.shape, f.shape, C.shape)"
   ]
  },
  {
   "cell_type": "code",
   "execution_count": 6,
   "id": "746959d3",
   "metadata": {},
   "outputs": [
    {
     "data": {
      "application/vnd.jupyter.widget-view+json": {
       "model_id": "ff9d20cc44ca4b6e9e20080f659d4429",
       "version_major": 2,
       "version_minor": 0
      },
      "text/plain": [
       "Renderer(camera=PerspectiveCamera(children=(DirectionalLight(color='white', intensity=0.6, position=(0.0536776…"
      ]
     },
     "metadata": {},
     "output_type": "display_data"
    },
    {
     "ename": "KeyboardInterrupt",
     "evalue": "",
     "output_type": "error",
     "traceback": [
      "\u001b[0;31m---------------------------------------------------------------------------\u001b[0m",
      "\u001b[0;31mKeyboardInterrupt\u001b[0m                         Traceback (most recent call last)",
      "Cell \u001b[0;32mIn[6], line 9\u001b[0m\n\u001b[1;32m      7\u001b[0m p\u001b[38;5;241m.\u001b[39mupdate_object(vertices\u001b[38;5;241m=\u001b[39mv_new, colors\u001b[38;5;241m=\u001b[39mC[i])\n\u001b[1;32m      8\u001b[0m v \u001b[38;5;241m=\u001b[39m v_new\n\u001b[0;32m----> 9\u001b[0m \u001b[43mtime\u001b[49m\u001b[38;5;241;43m.\u001b[39;49m\u001b[43msleep\u001b[49m\u001b[43m(\u001b[49m\u001b[38;5;241;43m0.1\u001b[39;49m\u001b[43m)\u001b[49m\n",
      "\u001b[0;31mKeyboardInterrupt\u001b[0m: "
     ]
    }
   ],
   "source": [
    "v = V[0]\n",
    "p = mp.plot(v, f)\n",
    "\n",
    "for j in range(10):\n",
    "    for i in range(58):\n",
    "        v_new = V[i]\n",
    "        p.update_object(vertices=v_new, colors=C[i])\n",
    "        v = v_new\n",
    "        time.sleep(0.1) # depending on how long your simulation step takes you want to wait for a little while\n",
    "    "
   ]
  },
  {
   "cell_type": "markdown",
   "id": "0db2caaa",
   "metadata": {},
   "source": [
    "## PLOT RIGID SMPL ANIMATION"
   ]
  },
  {
   "cell_type": "code",
   "execution_count": null,
   "id": "73adfc2f",
   "metadata": {},
   "outputs": [],
   "source": [
    "IS_RIGID = True\n",
    "anim_mode = \"rigid\" if IS_RIGID else \"jiggle\"\n",
    "\n",
    "with np.load(\"./results/anim_{}.npz\".format(anim_mode)) as data:\n",
    "    V = data['arr_0']\n",
    "    \n",
    "with np.load(\"./results/faces_{}.npz\".format(anim_mode)) as data:\n",
    "    f = data['arr_0']\n",
    "   \n",
    "if not IS_RIGID:\n",
    "    # Add color distances to jiggling animation\n",
    "    with np.load(\"./results/rb_color_mapping.npz\") as data:\n",
    "        c = data['arr_0']\n",
    "        \n",
    "print(V.shape, f.shape)"
   ]
  },
  {
   "cell_type": "code",
   "execution_count": null,
   "id": "faeecc07",
   "metadata": {},
   "outputs": [],
   "source": [
    "v = V[0]\n",
    "p = mp.plot(v, f)\n",
    "\n",
    "for i in range(59):\n",
    "    v_new = V[i]\n",
    "    p.update_object(vertices=v_new, colors=np.array([1.,1.,1.]))\n",
    "    v = v_new\n",
    "    time.sleep(0.1) # depending on how long your simulation step takes you want to wait for a little while\n"
   ]
  },
  {
   "cell_type": "code",
   "execution_count": null,
   "id": "1bc6aea4",
   "metadata": {},
   "outputs": [],
   "source": []
  }
 ],
 "metadata": {
  "kernelspec": {
   "display_name": "Python 3 (ipykernel)",
   "language": "python",
   "name": "python3"
  },
  "language_info": {
   "codemirror_mode": {
    "name": "ipython",
    "version": 3
   },
   "file_extension": ".py",
   "mimetype": "text/x-python",
   "name": "python",
   "nbconvert_exporter": "python",
   "pygments_lexer": "ipython3",
   "version": "3.9.18"
  }
 },
 "nbformat": 4,
 "nbformat_minor": 5
}
