{
 "cells": [
  {
   "cell_type": "code",
   "execution_count": 1,
   "id": "a2b6c832",
   "metadata": {},
   "outputs": [],
   "source": [
    "import scipy as sp\n",
    "import numpy as np\n",
    "import meshplot as mp\n",
    "import time \n",
    "import torch\n",
    "\n",
    "from meshplot import plot, subplot, interact\n",
    "from meshplot import Viewer\n",
    "\n",
    "import sys\n",
    "src_path = '../'\n",
    "sys.path.append(src_path)\n",
    "\n",
    "from smpl_torch_batch import SMPLModel\n"
   ]
  },
  {
   "cell_type": "markdown",
   "id": "007de20d",
   "metadata": {},
   "source": [
    "## PLOT JIGGLING SMPL ANIMATION"
   ]
  },
  {
   "cell_type": "code",
   "execution_count": 2,
   "id": "4ad9092d",
   "metadata": {},
   "outputs": [
    {
     "name": "stdout",
     "output_type": "stream",
     "text": [
      "(268, 10) (268, 72)\n"
     ]
    }
   ],
   "source": [
    "\n",
    "with np.load(\"../results/optim_parameters_smpl_budget_1000.npz\") as data:\n",
    "    betas_optim = data['arr_0']\n",
    "    pose_optim = data['arr_1']\n",
    "    #trans_optim = data['arr_2']\n",
    "    \n",
    "print(betas_optim.shape, pose_optim.shape) #, trans_optim.shape)"
   ]
  },
  {
   "cell_type": "code",
   "execution_count": 3,
   "id": "9d585204",
   "metadata": {},
   "outputs": [],
   "source": [
    "device = \"cpu\"\n",
    "\n",
    "training_data = torch.load('../data/50004_dataset.pt')\n",
    "data_loader = torch.utils.data.DataLoader(training_data, batch_size=1, shuffle=False)\n",
    "smpl_model = SMPLModel(device=device, model_path='../body_models/smpl/female/model.pkl')\n"
   ]
  },
  {
   "cell_type": "code",
   "execution_count": 4,
   "id": "e5646ecb",
   "metadata": {},
   "outputs": [],
   "source": [
    "for data in data_loader:\n",
    "    beta_pose_trans_seq = data[0].squeeze().type(torch.float64)\n",
    "    betas = beta_pose_trans_seq[:,:10]\n",
    "    pose = beta_pose_trans_seq[:,10:82]\n",
    "    trans = beta_pose_trans_seq[:,82:] \n",
    "    \n",
    "    target_verts = data[1].squeeze()\n",
    "        \n",
    "    smpl_verts, joints, affine = smpl_model(betas, pose, trans, return_T=True)\n",
    "    smpl_verts_optim, joints_optim, affine_optim = smpl_model(\n",
    "                                                                torch.Tensor(betas_optim).type(torch.float64), \n",
    "                                                                torch.Tensor(pose_optim).type(torch.float64), \n",
    "                                                                torch.Tensor(trans).type(torch.float64),\n",
    "                                                                #torch.Tensor(trans_optim).type(torch.float64),\n",
    "                                                                return_T = True\n",
    "                                                               )\n",
    "    \n",
    "    f = smpl_model.faces\n",
    "\n",
    "    break"
   ]
  },
  {
   "cell_type": "code",
   "execution_count": 5,
   "id": "59949c18",
   "metadata": {},
   "outputs": [
    {
     "name": "stdout",
     "output_type": "stream",
     "text": [
      "tensor(995.7208, dtype=torch.float64)\n"
     ]
    }
   ],
   "source": [
    "print(torch.sum((smpl_verts - smpl_verts_optim) ** 2))"
   ]
  },
  {
   "cell_type": "code",
   "execution_count": 6,
   "id": "79073f72",
   "metadata": {},
   "outputs": [],
   "source": [
    "def view_animation(V : np.ndarray, \n",
    "               f : np.ndarray,\n",
    "                  num_iters=1):\n",
    " \n",
    "    v = V[0]\n",
    "    p = mp.plot(v, f)\n",
    "\n",
    "    anim_length = target_verts.shape[0]\n",
    "    for j in range(num_iters):\n",
    "        for i in range(anim_length):\n",
    "            v_new = V[i]\n",
    "            p.update_object(vertices=v_new)\n",
    "            v = v_new\n",
    "            time.sleep(0.1) # depending on how long your simulation step takes you want to wait for a little while"
   ]
  },
  {
   "cell_type": "code",
   "execution_count": 7,
   "id": "746959d3",
   "metadata": {},
   "outputs": [],
   "source": [
    "#V = smpl_verts_optim.detach().numpy()\n",
    "#view_animation(V, f)"
   ]
  },
  {
   "cell_type": "markdown",
   "id": "0db2caaa",
   "metadata": {},
   "source": [
    "## PLOT UNPOSED DFAUST ANIMATION"
   ]
  },
  {
   "cell_type": "code",
   "execution_count": 8,
   "id": "43d6c1ee",
   "metadata": {},
   "outputs": [],
   "source": [
    "def unpose_verts_batch(target_verts, trans_vec, T):\n",
    "    T_inv = torch.inverse(T)\n",
    "    num_batch = target_verts.shape[0]\n",
    "    \n",
    "    tmp_verts = torch.clone(target_verts)\n",
    "    tmp_verts -= torch.reshape(trans_vec, (num_batch, 1, 3)) \n",
    "    \n",
    "    v_homo = torch.cat([tmp_verts,torch.ones([num_batch, 6890, 1])], dim=2)\n",
    "    v_unposed = torch.matmul(T_inv, torch.unsqueeze(v_homo, dim=-1)).squeeze()[:, :,:3]\n",
    "    \n",
    "    return v_unposed"
   ]
  },
  {
   "cell_type": "code",
   "execution_count": 10,
   "id": "3bf72bda",
   "metadata": {},
   "outputs": [
    {
     "data": {
      "application/vnd.jupyter.widget-view+json": {
       "model_id": "1912361e40ee449ead051cd79ee796be",
       "version_major": 2,
       "version_minor": 0
      },
      "text/plain": [
       "Renderer(camera=PerspectiveCamera(children=(DirectionalLight(color='white', intensity=0.6, position=(0.0168386…"
      ]
     },
     "metadata": {},
     "output_type": "display_data"
    }
   ],
   "source": [
    "\n",
    "v_unposed = unpose_verts_batch(target_verts, trans, affine_optim)\n",
    "V = v_unposed.detach().numpy()\n",
    "view_animation(V, f)"
   ]
  },
  {
   "cell_type": "code",
   "execution_count": null,
   "id": "7d69910b",
   "metadata": {},
   "outputs": [],
   "source": []
  },
  {
   "cell_type": "code",
   "execution_count": null,
   "id": "b8418cdc",
   "metadata": {},
   "outputs": [],
   "source": []
  }
 ],
 "metadata": {
  "kernelspec": {
   "display_name": "Python 3 (ipykernel)",
   "language": "python",
   "name": "python3"
  },
  "language_info": {
   "codemirror_mode": {
    "name": "ipython",
    "version": 3
   },
   "file_extension": ".py",
   "mimetype": "text/x-python",
   "name": "python",
   "nbconvert_exporter": "python",
   "pygments_lexer": "ipython3",
   "version": "3.9.18"
  }
 },
 "nbformat": 4,
 "nbformat_minor": 5
}
