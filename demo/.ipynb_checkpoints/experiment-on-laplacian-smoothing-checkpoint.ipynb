{
 "cells": [
  {
   "cell_type": "markdown",
   "id": "7c389918",
   "metadata": {},
   "source": [
    "## Compute Laplacian"
   ]
  },
  {
   "cell_type": "code",
   "execution_count": 1,
   "id": "d16bf43a",
   "metadata": {},
   "outputs": [],
   "source": [
    "## IMPORT LIBRARIES \n",
    "import os\n",
    "import sys\n",
    "import igl\n",
    "import time\n",
    "import torch\n",
    "import numpy as np\n",
    "import meshplot as mp\n",
    "import matplotlib.pyplot as plt\n",
    "\n",
    "module_path = os.path.abspath(os.path.join('..'))\n",
    "if module_path not in sys.path:\n",
    "    sys.path.append(module_path)\n",
    "\n",
    "## IMPORT SOURCE\n",
    "from smpl_torch_batch import SMPLModel"
   ]
  },
  {
   "cell_type": "code",
   "execution_count": 2,
   "id": "6bd3c570",
   "metadata": {},
   "outputs": [],
   "source": [
    "## LOAD ANIMATION DATA (ORIGINAL SCANS OF SINGLE INSTANCE)\n",
    "\n",
    "training_data = torch.load('../data/50004_dataset.pt')\n",
    "data_loader = torch.utils.data.DataLoader(training_data, batch_size=1, shuffle=False)\n",
    "\n",
    "device = \"cpu\"\n",
    "smpl_model = SMPLModel(device=device, model_path='../body_models/smpl/female/model.pkl')\n",
    "\n",
    "for data in data_loader:\n",
    "    target_verts = data[1].squeeze()\n",
    "    V = np.array(target_verts, dtype=float)\n",
    "    F = np.array(smpl_model.faces, dtype=int)\n",
    "    break\n",
    "    "
   ]
  },
  {
   "cell_type": "code",
   "execution_count": 3,
   "id": "b6230535",
   "metadata": {},
   "outputs": [],
   "source": [
    "## Get Smoothed Animation\n",
    "\n",
    "smoothing_steps = 10\n",
    "verbose = False\n",
    "\n",
    "v_smoothed = []\n",
    "#v_smoothed = np.empty_like(V)\n",
    "anim_length = V.shape[0]\n",
    "for i in range(anim_length):\n",
    "    #v_smoothed[i] = V[i]\n",
    "    v_smoothed.append(V[i])\n",
    "    for j in range(smoothing_steps):\n",
    "        v_smoothed[i] = igl.per_vertex_attribute_smoothing(v_smoothed[i], F)\n",
    "             \n",
    "    if verbose:\n",
    "        if (i+1) % 10 == 0: print(\">> Step \", i+1, \"/\", anim_length)\n",
    "\n"
   ]
  },
  {
   "cell_type": "code",
   "execution_count": null,
   "id": "e40f3642",
   "metadata": {
    "scrolled": true
   },
   "outputs": [],
   "source": [
    "# PLOT THE SMOOTHED ANIMATION\n",
    "\n",
    "v_start = v_smoothed[0]\n",
    "p = mp.plot(v_start, F)\n",
    "\n",
    "for k in range(2):\n",
    "    for i in range(anim_length):\n",
    "\n",
    "        v_new = v_smoothed[i]\n",
    "        p.update_object(vertices=v_new)\n",
    "        v = v_new\n",
    "        time.sleep(0.1)"
   ]
  },
  {
   "cell_type": "code",
   "execution_count": null,
   "id": "bd6643e9",
   "metadata": {},
   "outputs": [],
   "source": []
  },
  {
   "cell_type": "code",
   "execution_count": null,
   "id": "ca874276",
   "metadata": {},
   "outputs": [],
   "source": []
  }
 ],
 "metadata": {
  "kernelspec": {
   "display_name": "Python 3 (ipykernel)",
   "language": "python",
   "name": "python3"
  },
  "language_info": {
   "codemirror_mode": {
    "name": "ipython",
    "version": 3
   },
   "file_extension": ".py",
   "mimetype": "text/x-python",
   "name": "python",
   "nbconvert_exporter": "python",
   "pygments_lexer": "ipython3",
   "version": "3.9.18"
  }
 },
 "nbformat": 4,
 "nbformat_minor": 5
}
