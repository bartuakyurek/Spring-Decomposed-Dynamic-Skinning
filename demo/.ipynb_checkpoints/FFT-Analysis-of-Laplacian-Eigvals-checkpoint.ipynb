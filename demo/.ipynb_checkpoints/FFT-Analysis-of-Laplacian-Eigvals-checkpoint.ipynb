{
 "cells": [
  {
   "cell_type": "markdown",
   "id": "7c389918",
   "metadata": {},
   "source": [
    "## Compute Laplacian"
   ]
  },
  {
   "cell_type": "code",
   "execution_count": 6,
   "id": "d16bf43a",
   "metadata": {},
   "outputs": [],
   "source": [
    "## IMPORT LIBRARIES \n",
    "import os\n",
    "import sys\n",
    "import igl\n",
    "import time\n",
    "import torch\n",
    "import numpy as np\n",
    "import meshplot as mp\n",
    "from typing import Tuple\n",
    "import matplotlib.pyplot as plt\n",
    "\n",
    "module_path = os.path.abspath(os.path.join('..'))\n",
    "if module_path not in sys.path:\n",
    "    sys.path.append(module_path)\n",
    "\n",
    "## IMPORT SOURCE\n",
    "from smpl_torch_batch import SMPLModel"
   ]
  },
  {
   "cell_type": "code",
   "execution_count": 35,
   "id": "6bd3c570",
   "metadata": {},
   "outputs": [],
   "source": [
    "## LOAD ANIMATION DATA (ORIGINAL SCANS OF SINGLE INSTANCE)\n",
    "\n",
    "training_data = torch.load('../data/50004_dataset.pt')\n",
    "data_loader = torch.utils.data.DataLoader(training_data, batch_size=1, shuffle=False)\n",
    "\n",
    "device = \"cpu\"\n",
    "smpl_model = SMPLModel(device=device, model_path='../body_models/smpl/female/model.pkl')\n",
    "\n",
    "for data in data_loader:\n",
    "    target_verts = data[1].squeeze()\n",
    "    V = np.array(target_verts, dtype=float)\n",
    "    F = np.array(smpl_model.faces, dtype=int)\n",
    "    break\n",
    "\n",
    "with np.load(\"../results/eigdecomp_batch.npz\") as file:\n",
    "    V_selected = file['arr_0']\n",
    "    eigvals = file['arr_3']\n",
    "    eigvecs = file['arr_4']\n",
    "    "
   ]
  },
  {
   "cell_type": "markdown",
   "id": "1cc7ebdf",
   "metadata": {},
   "source": [
    "## Experiments"
   ]
  },
  {
   "cell_type": "code",
   "execution_count": 8,
   "id": "e44c02b3",
   "metadata": {},
   "outputs": [],
   "source": [
    "def generate_sine_wave(\n",
    "    amplitude: float,\n",
    "    frequency: float,\n",
    "    phase: float,\n",
    "    sampling_rate: int,\n",
    "    duration: float) -> Tuple[torch.FloatTensor, torch.FloatTensor]:\n",
    "    \"\"\"Generates a sine wave\n",
    "\n",
    "    Args:\n",
    "        amplitude (float): Amplitude\n",
    "        frequency (float): Frequnecy [Hz]\n",
    "        phase (float): Phase [rad]\n",
    "        sampling_rate (int): Sampling rate[Hz]\n",
    "        duration (float): Duration [s]\n",
    "\n",
    "    Returns:\n",
    "        Tuple[torch.FloatTensor, torch.FloatTensor]: t, y(t)\n",
    "    \"\"\"\n",
    "    total_steps = int(sampling_rate * duration)\n",
    "    t = torch.linspace(0, duration, total_steps)\n",
    "    y = amplitude * torch.sin(2 * np.pi * frequency * t + phase)\n",
    "\n",
    "    return t, y"
   ]
  },
  {
   "cell_type": "code",
   "execution_count": 9,
   "id": "4dda94a4",
   "metadata": {},
   "outputs": [],
   "source": [
    "def get_fft_components(signal, fourier, sampling_rate = 1_000, plot=True):\n",
    "    absolutes = fourier.abs()\n",
    "    freq = torch.fft.rfftfreq(len(signal), 1/sampling_rate)\n",
    "    \n",
    "    if plot:\n",
    "        fig, ax = plt.subplots()\n",
    "        ax.set_xlabel('Frequencies')\n",
    "        ax.set_ylabel('$|F(s)|$')\n",
    "        ax.grid()\n",
    "        ax.scatter(x=freq, y=absolutes, s=8)\n",
    "        plt.savefig('./plots/fourier_transform_sampling_{}_{}.png'.format(sampling_rate, time.time()))\n",
    "    \n",
    "    return absolutes, freq"
   ]
  },
  {
   "cell_type": "code",
   "execution_count": 36,
   "id": "bd6643e9",
   "metadata": {},
   "outputs": [
    {
     "name": "stdout",
     "output_type": "stream",
     "text": [
      "torch.Size([7, 6890, 3]) torch.Size([7, 10]) torch.Size([7, 6890, 10])\n"
     ]
    }
   ],
   "source": [
    "V_tensor = torch.from_numpy(V_selected)\n",
    "eigvals_tensor = torch.from_numpy(eigvals.real)\n",
    "eigvecs_tensor = torch.from_numpy(eigvecs.real)\n",
    "\n",
    "print(V_tensor.shape, eigvals_tensor.shape, eigvecs_tensor.shape)"
   ]
  },
  {
   "cell_type": "code",
   "execution_count": 14,
   "id": "ca874276",
   "metadata": {
    "scrolled": true
   },
   "outputs": [
    {
     "name": "stdout",
     "output_type": "stream",
     "text": [
      ">> Step  1 / 10\n",
      ">> Step  2 / 10\n",
      ">> Step  3 / 10\n",
      ">> Step  4 / 10\n",
      ">> Step  5 / 10\n",
      ">> Step  6 / 10\n",
      ">> Step  7 / 10\n",
      ">> Step  8 / 10\n",
      ">> Step  9 / 10\n",
      ">> Step  10 / 10\n"
     ]
    }
   ],
   "source": [
    "###### FFT Computation (Naive)\n",
    "\n",
    "duration = period = V_tensor.shape[0]\n",
    "num_verts = V_tensor.shape[1]\n",
    "dims = V_tensor.shape[2]\n",
    "num_eigvals = eigvals.shape[1]\n",
    "\n",
    "eigvecs_freqs = []\n",
    "eigvecs_abs = []\n",
    "for frame in range(duration):\n",
    "    for eigval_idx in range(num_eigvals):\n",
    "       \n",
    "        signal = eigvecs_tensor[frame, :, eigval_idx]\n",
    "        \n",
    "        signal_fourier = torch.fft.rfft(signal, norm='forward') \n",
    "        absolutes, freqs = get_fft_components(signal, signal_fourier, plot=False)\n",
    "\n",
    "        eigval_freqs.append(freqs)\n",
    "        eigval_abs.append(absolutes)\n",
    "        print(\">> Step \", eigval_idx+1 , \"/\", num_eigvals)\n",
    "        \n",
    "    break # TODO:::::::::::::::::::::::: dont break.......!!!!!!!!!!!!!!!!!!!!!!!!!!!!!"
   ]
  },
  {
   "cell_type": "code",
   "execution_count": 34,
   "id": "ec38707d",
   "metadata": {},
   "outputs": [
    {
     "data": {
      "image/png": "[encoded data removed]",
      "text/plain": [
       "<Figure size 640x480 with 1 Axes>"
      ]
     },
     "metadata": {},
     "output_type": "display_data"
    }
   ],
   "source": [
    "for i in range(period):\n",
    "    plt.plot(eigvals.real[i])"
   ]
  },
  {
   "cell_type": "code",
   "execution_count": null,
   "id": "fa9fc00f",
   "metadata": {
    "scrolled": true
   },
   "outputs": [],
   "source": [
    "# PLOT THE ADDED JIGGLING ANIMATION\n",
    "\n",
    "v_start = V_selected[0]\n",
    "p = mp.plot(v_start, F)\n",
    "anim_length = V_selected.shape[0]\n",
    "\n",
    "for k in range(10):\n",
    "    for i in range(anim_length):\n",
    "        \n",
    "        v_new = V_selected[i]\n",
    "        p.update_object(vertices=v_new)\n",
    "        v = v_new\n",
    "        time.sleep(0.1)"
   ]
  }
 ],
 "metadata": {
  "kernelspec": {
   "display_name": "Python 3 (ipykernel)",
   "language": "python",
   "name": "python3"
  },
  "language_info": {
   "codemirror_mode": {
    "name": "ipython",
    "version": 3
   },
   "file_extension": ".py",
   "mimetype": "text/x-python",
   "name": "python",
   "nbconvert_exporter": "python",
   "pygments_lexer": "ipython3",
   "version": "3.9.18"
  }
 },
 "nbformat": 4,
 "nbformat_minor": 5
}
