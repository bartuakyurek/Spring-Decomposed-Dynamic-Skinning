{
 "cells": [
  {
   "cell_type": "markdown",
   "id": "7c389918",
   "metadata": {},
   "source": [
    "## Compute Laplacian"
   ]
  },
  {
   "cell_type": "code",
   "execution_count": 1,
   "id": "d16bf43a",
   "metadata": {},
   "outputs": [],
   "source": [
    "## IMPORT LIBRARIES \n",
    "import os\n",
    "import sys\n",
    "import igl\n",
    "import time\n",
    "import torch\n",
    "import numpy as np\n",
    "import meshplot as mp\n",
    "from typing import Tuple\n",
    "import matplotlib.pyplot as plt\n",
    "\n",
    "module_path = os.path.abspath(os.path.join('..'))\n",
    "if module_path not in sys.path:\n",
    "    sys.path.append(module_path)\n",
    "\n",
    "## IMPORT SOURCE\n",
    "from smpl_torch_batch import SMPLModel"
   ]
  },
  {
   "cell_type": "code",
   "execution_count": 2,
   "id": "6bd3c570",
   "metadata": {},
   "outputs": [],
   "source": [
    "## LOAD ANIMATION DATA (ORIGINAL SCANS OF SINGLE INSTANCE)\n",
    "\n",
    "training_data = torch.load('../data/50004_dataset.pt')\n",
    "data_loader = torch.utils.data.DataLoader(training_data, batch_size=1, shuffle=False)\n",
    "\n",
    "device = \"cpu\"\n",
    "smpl_model = SMPLModel(device=device, model_path='../body_models/smpl/female/model.pkl')\n",
    "\n",
    "for data in data_loader:\n",
    "    \n",
    "    beta_pose_trans_seq = data[0].squeeze().type(torch.float64)\n",
    "    betas = beta_pose_trans_seq[:,:10]\n",
    "    pose = beta_pose_trans_seq[:,10:82]\n",
    "    trans = beta_pose_trans_seq[:,82:] \n",
    "    \n",
    "    target_verts = data[1].squeeze()\n",
    "    smpl_verts, joints = smpl_model(betas, pose, trans)\n",
    "    \n",
    "    V_smpl = np.array(smpl_verts, dtype=float)\n",
    "    V_dfaust = np.array(target_verts, dtype=float)\n",
    "    F = np.array(smpl_model.faces, dtype=int)\n",
    "\n",
    "    break\n",
    "    "
   ]
  },
  {
   "cell_type": "code",
   "execution_count": 6,
   "id": "2fb18443",
   "metadata": {},
   "outputs": [
    {
     "name": "stdout",
     "output_type": "stream",
     "text": [
      "Max of  smpl  is  0.9509268830242017\n",
      "Min of  smpl  is  -0.7184612015349396\n",
      "Mean of  smpl  is  0.21573742838181723\n",
      "Std of  smpl  is  0.3050622461453608\n",
      "\n",
      "Max of  dfaust  is  0.9453580229927939\n",
      "Min of  dfaust  is  -0.7119799725037789\n",
      "Mean of  dfaust  is  0.2157374283437088\n",
      "Std of  dfaust  is  0.3022882011531662\n",
      "\n"
     ]
    }
   ],
   "source": [
    "def print_max_min(V, name=\"\"):\n",
    "    print(\"Max of \", name, \" is \", np.max(V))\n",
    "    print(\"Min of \", name, \" is \", np.min(V))\n",
    "    \n",
    "def print_stats(V, name=\"\"):\n",
    "    print_max_min(V, name)\n",
    "    print(\"Mean of \", name, \" is \", np.mean(V))\n",
    "    print(\"Std of \", name, \" is \", np.std(V))\n",
    "    print()\n",
    "    \n",
    "\n",
    "print_stats(V_smpl, \"smpl\")\n",
    "print_stats(V_dfaust, \"dfaust\")"
   ]
  },
  {
   "cell_type": "code",
   "execution_count": null,
   "id": "797a6a3d",
   "metadata": {},
   "outputs": [],
   "source": []
  }
 ],
 "metadata": {
  "kernelspec": {
   "display_name": "Python 3 (ipykernel)",
   "language": "python",
   "name": "python3"
  },
  "language_info": {
   "codemirror_mode": {
    "name": "ipython",
    "version": 3
   },
   "file_extension": ".py",
   "mimetype": "text/x-python",
   "name": "python",
   "nbconvert_exporter": "python",
   "pygments_lexer": "ipython3",
   "version": "3.9.18"
  }
 },
 "nbformat": 4,
 "nbformat_minor": 5
}
