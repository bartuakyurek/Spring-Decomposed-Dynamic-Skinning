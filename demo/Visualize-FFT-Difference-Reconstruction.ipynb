{
 "cells": [
  {
   "cell_type": "code",
   "execution_count": 53,
   "id": "eb50cb31",
   "metadata": {},
   "outputs": [],
   "source": [
    "## IMPORT LIBRARIES \n",
    "import os\n",
    "import sys\n",
    "import igl\n",
    "import time\n",
    "import torch\n",
    "import numpy as np\n",
    "import meshplot as mp\n",
    "from typing import Tuple\n",
    "import matplotlib.pyplot as plt\n",
    "\n",
    "module_path = os.path.abspath(os.path.join('..'))\n",
    "if module_path not in sys.path:\n",
    "    sys.path.append(module_path)\n",
    "\n",
    "## IMPORT SOURCE\n",
    "from smpl_torch_batch import SMPLModel"
   ]
  },
  {
   "cell_type": "code",
   "execution_count": 54,
   "id": "6cfc7497",
   "metadata": {},
   "outputs": [],
   "source": [
    "## LOAD ANIMATION DATA (ORIGINAL SCANS OF SINGLE INSTANCE)\n",
    "\n",
    "training_data = torch.load('../data/50004_dataset.pt')\n",
    "data_loader = torch.utils.data.DataLoader(training_data, batch_size=1, shuffle=False)\n",
    "\n",
    "device = \"cpu\"\n",
    "smpl_model = SMPLModel(device=device, model_path='../body_models/smpl/female/model.pkl')\n",
    "\n",
    "for data in data_loader:\n",
    "    \n",
    "    beta_pose_trans_seq = data[0].squeeze().type(torch.float64)\n",
    "    betas = beta_pose_trans_seq[:,:10]\n",
    "    pose = beta_pose_trans_seq[:,10:82]\n",
    "    trans = beta_pose_trans_seq[:,82:] \n",
    "    \n",
    "    target_verts = data[1].squeeze()\n",
    "    smpl_verts, joints = smpl_model(betas, pose, trans)\n",
    "    \n",
    "    V_smpl = np.array(smpl_verts, dtype=float)\n",
    "    V_dfaust = np.array(target_verts, dtype=float)\n",
    "    F = np.array(smpl_model.faces, dtype=int)\n",
    "\n",
    "    break"
   ]
  },
  {
   "cell_type": "code",
   "execution_count": 55,
   "id": "dc482b33",
   "metadata": {},
   "outputs": [],
   "source": [
    "def generate_sine_wave(\n",
    "    amplitude: float,\n",
    "    frequency: float,\n",
    "    phase: float,\n",
    "    sampling_rate: int,\n",
    "    duration: float) -> Tuple[torch.FloatTensor, torch.FloatTensor]:\n",
    "    \"\"\"Generates a sine wave\n",
    "\n",
    "    Args:\n",
    "        amplitude (float): Amplitude\n",
    "        frequency (float): Frequnecy [Hz]\n",
    "        phase (float): Phase [rad]\n",
    "        sampling_rate (int): Sampling rate[Hz]\n",
    "        duration (float): Duration [s]\n",
    "\n",
    "    Returns:\n",
    "        Tuple[torch.FloatTensor, torch.FloatTensor]: t, y(t)\n",
    "    \"\"\"\n",
    "    total_steps = int(sampling_rate * duration)\n",
    "    t = torch.linspace(0, duration, total_steps)\n",
    "    y = amplitude * torch.sin(2 * np.pi * frequency * t + phase)\n",
    "\n",
    "    return t, y"
   ]
  },
  {
   "cell_type": "code",
   "execution_count": 56,
   "id": "2acc1b6c",
   "metadata": {},
   "outputs": [],
   "source": [
    "def get_fft_components(signal, fourier, sampling_rate = 1_000, plot=True):\n",
    "    absolutes = fourier.abs()\n",
    "    freq = torch.fft.rfftfreq(len(signal), 1/sampling_rate)\n",
    "    \n",
    "    if plot:\n",
    "        fig, ax = plt.subplots()\n",
    "        ax.set_xlabel('Frequencies')\n",
    "        ax.set_ylabel('$|F(s)|$')\n",
    "        ax.grid()\n",
    "        ax.scatter(x=freq, y=absolutes, s=8)\n",
    "        plt.savefig('./plots/fourier_transform_sampling_{}_{}.png'.format(sampling_rate, time.time()))\n",
    "    \n",
    "    return absolutes, freq"
   ]
  },
  {
   "cell_type": "code",
   "execution_count": 57,
   "id": "3b3e3177",
   "metadata": {},
   "outputs": [],
   "source": [
    "def get_fft_of_mesh_animation(signal_batch, verbose_idx=-1):\n",
    "    \"\"\"\n",
    "    Signal_batch: nd.array has shape (num_frames, num_verts, dim=3)\n",
    "    \n",
    "    \"\"\"\n",
    "    \n",
    "    time_dim, verts_dim, space_dim = signal_batch.shape\n",
    "    \n",
    "    fft_batch = []\n",
    "    for i in range(verts_dim):\n",
    "        xyz_fft = []\n",
    "        for j in range(space_dim):\n",
    "            signal = signal_batch[:, i, j]\n",
    "            signal_fourier = torch.fft.rfft(signal, norm='forward') \n",
    "            absolutes, freqs = get_fft_components(signal, signal_fourier, plot=False)\n",
    "            xyz_fft.append((absolutes, freqs))\n",
    "            \n",
    "        fft_batch.append(xyz_fft)     \n",
    "        if verbose_idx > 0:\n",
    "            if (i+1) % verbose_idx == 0:\n",
    "                print(\">> Step \", i+1 , \"/\", verts_dim)\n",
    "    \n",
    "    return fft_batch"
   ]
  },
  {
   "cell_type": "code",
   "execution_count": 58,
   "id": "42f0c286",
   "metadata": {},
   "outputs": [
    {
     "name": "stdout",
     "output_type": "stream",
     "text": [
      ">> Step  1000 / 6890\n",
      ">> Step  2000 / 6890\n",
      ">> Step  3000 / 6890\n",
      ">> Step  4000 / 6890\n",
      ">> Step  5000 / 6890\n",
      ">> Step  6000 / 6890\n",
      ">> Step  1000 / 6890\n",
      ">> Step  2000 / 6890\n",
      ">> Step  3000 / 6890\n",
      ">> Step  4000 / 6890\n",
      ">> Step  5000 / 6890\n",
      ">> Step  6000 / 6890\n"
     ]
    }
   ],
   "source": [
    "smpl_fft = get_fft_of_mesh_animation(smpl_verts, verbose_idx=1000)\n",
    "dfaust_fft = get_fft_of_mesh_animation(target_verts, verbose_idx=1000)"
   ]
  },
  {
   "cell_type": "code",
   "execution_count": 59,
   "id": "20edd3c8",
   "metadata": {},
   "outputs": [],
   "source": [
    "fft_diff = []\n",
    "for smpl_vertex_fft, dfaust_vertex_fft in zip(smpl_fft, dfaust_fft):\n",
    "    fft_diff_xyz = []\n",
    "    for smpl_xyz_fft, dfaust_xyz_fft in zip(smpl_vertex_fft, dfaust_vertex_fft):\n",
    "        \n",
    "        smpl_abs, smpl_freqs  = smpl_xyz_fft\n",
    "        dfaust_abs, dfaust_freqs = dfaust_xyz_fft\n",
    "        \n",
    "        assert np.all([smpl_freqs == dfaust_freqs]) # sanity check if the frequencies match\n",
    "        \n",
    "        fft_diff_xyz.append(dfaust_abs - smpl_abs)\n",
    "    fft_diff.append(fft_diff_xyz)"
   ]
  },
  {
   "cell_type": "code",
   "execution_count": 67,
   "id": "f126dd52",
   "metadata": {},
   "outputs": [],
   "source": [
    "def reconstruct_signal_from_fft(fft_tuple, duration, sampling_rate = 1000, \n",
    "                                reconst_all=True, lower_idx=0, num_freqs=20):\n",
    "    \n",
    "    absolutes, freqs = fft_tuple\n",
    "    assert len(absolutes) == len(freqs)\n",
    "\n",
    "    if reconst_all:\n",
    "        num_freqs = len(freqs) # N=135\n",
    "        lower_idx = 0\n",
    "\n",
    "    reconst_signal = torch.zeros(duration * sampling_rate)\n",
    "    ############# SUM OF SINUSOIDAL #########################################################################\n",
    "    for i in range(lower_idx, lower_idx+num_freqs): \n",
    "\n",
    "        f = freqs[i]\n",
    "        a = absolutes[i]\n",
    "        t, y = generate_sine_wave(amplitude=a, frequency=f, phase=0, sampling_rate=sampling_rate, duration=duration)\n",
    "        reconst_signal += y\n",
    "    #########################################################################################################\n",
    "    \n",
    "    sampled_idx = (torch.linspace(0.25, 0.75, duration) * sampling_rate).long()\n",
    "    return reconst_signal[sampled_idx]"
   ]
  },
  {
   "cell_type": "code",
   "execution_count": 76,
   "id": "5152f071",
   "metadata": {},
   "outputs": [
    {
     "name": "stdout",
     "output_type": "stream",
     "text": [
      "torch.Size([268])\n"
     ]
    }
   ],
   "source": [
    "duration, num_verts, space_dim = smpl_verts.shape\n",
    "freqs = smpl_fft[0][0][1] # todo: frequencies stay the same, you don't even have to store them for each vertex!\n",
    "\n",
    "reconst_diff = []\n",
    "for vert_idx in range(num_verts):\n",
    "    reconst_diff_xyz = []\n",
    "    for dim in range(space_dim):\n",
    "        \n",
    "        fft_tuple = (fft_diff[vert_idx][dim], freqs) \n",
    "        reconst_diff_xyz.append(reconstruct_signal_from_fft(fft_tuple, duration))\n",
    "\n",
    "    reconst_diff.append(reconst_diff_xyz)"
   ]
  },
  {
   "cell_type": "code",
   "execution_count": 71,
   "id": "1d86b81f",
   "metadata": {},
   "outputs": [],
   "source": [
    "np.savez(\"FFT_diff_anim.npz\", np.array(reconst_diff))"
   ]
  },
  {
   "cell_type": "code",
   "execution_count": 72,
   "id": "73c0e396",
   "metadata": {},
   "outputs": [
    {
     "name": "stdout",
     "output_type": "stream",
     "text": [
      ">> File loaded.\n"
     ]
    }
   ],
   "source": [
    "with np.load(\"FFT_diff_anim.npz\") as file:\n",
    "    V_diff_anim = file['arr_0']\n",
    "    print(\">> File loaded.\")"
   ]
  },
  {
   "cell_type": "code",
   "execution_count": 82,
   "id": "265d9528",
   "metadata": {},
   "outputs": [
    {
     "name": "stdout",
     "output_type": "stream",
     "text": [
      "(6890, 3, 268)\n",
      "(268, 6890, 3)\n"
     ]
    }
   ],
   "source": [
    "print(V_diff_anim.shape)\n",
    "V_diff_anim = np.swapaxes(V_diff_anim, 0,2)\n",
    "V_diff_anim = np.swapaxes(V_diff_anim, 1,2)\n",
    "print(V_diff_anim.shape)"
   ]
  },
  {
   "cell_type": "code",
   "execution_count": null,
   "id": "8abc81ed",
   "metadata": {},
   "outputs": [
    {
     "data": {
      "application/vnd.jupyter.widget-view+json": {
       "model_id": "2ffeb399dbb24539ad16f6ef93251eb1",
       "version_major": 2,
       "version_minor": 0
      },
      "text/plain": [
       "Renderer(camera=PerspectiveCamera(children=(DirectionalLight(color='white', intensity=0.6, position=(0.0253415…"
      ]
     },
     "metadata": {},
     "output_type": "display_data"
    }
   ],
   "source": [
    "v_start = np.array(smpl_verts[0])\n",
    "p = mp.plot(v_start, F)\n",
    "\n",
    "for k in range(3):\n",
    "    for i in range(duration):\n",
    "        \n",
    "        v_new = [np.array(smpl_verts[i])][0] + V_diff_anim[i] #[][0] workaround for meshplot\n",
    "        p.update_object(vertices=v_new)\n",
    "        v = v_new\n",
    "        time.sleep(0.1)"
   ]
  },
  {
   "cell_type": "code",
   "execution_count": null,
   "id": "fc0f99dd",
   "metadata": {},
   "outputs": [],
   "source": []
  }
 ],
 "metadata": {
  "kernelspec": {
   "display_name": "Python 3 (ipykernel)",
   "language": "python",
   "name": "python3"
  },
  "language_info": {
   "codemirror_mode": {
    "name": "ipython",
    "version": 3
   },
   "file_extension": ".py",
   "mimetype": "text/x-python",
   "name": "python",
   "nbconvert_exporter": "python",
   "pygments_lexer": "ipython3",
   "version": "3.9.18"
  }
 },
 "nbformat": 4,
 "nbformat_minor": 5
}
