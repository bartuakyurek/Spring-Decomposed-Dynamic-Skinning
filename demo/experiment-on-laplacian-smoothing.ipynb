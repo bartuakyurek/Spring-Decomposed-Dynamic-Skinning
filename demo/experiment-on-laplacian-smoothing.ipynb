{
 "cells": [
  {
   "cell_type": "markdown",
   "id": "7c389918",
   "metadata": {},
   "source": [
    "## Compute Laplacian"
   ]
  },
  {
   "cell_type": "code",
   "execution_count": null,
   "id": "d16bf43a",
   "metadata": {},
   "outputs": [],
   "source": [
    "## IMPORT LIBRARIES \n",
    "import os\n",
    "import sys\n",
    "import igl\n",
    "import time\n",
    "import torch\n",
    "import numpy as np\n",
    "import meshplot as mp\n",
    "from typing import Tuple\n",
    "import matplotlib.pyplot as plt\n",
    "\n",
    "module_path = os.path.abspath(os.path.join('..'))\n",
    "if module_path not in sys.path:\n",
    "    sys.path.append(module_path)\n",
    "\n",
    "## IMPORT SOURCE\n",
    "from smpl_torch_batch import SMPLModel"
   ]
  },
  {
   "cell_type": "code",
   "execution_count": null,
   "id": "6bd3c570",
   "metadata": {},
   "outputs": [],
   "source": [
    "## LOAD ANIMATION DATA (ORIGINAL SCANS OF SINGLE INSTANCE)\n",
    "\n",
    "training_data = torch.load('../data/50004_dataset.pt')\n",
    "data_loader = torch.utils.data.DataLoader(training_data, batch_size=1, shuffle=False)\n",
    "\n",
    "device = \"cpu\"\n",
    "smpl_model = SMPLModel(device=device, model_path='../body_models/smpl/female/model.pkl')\n",
    "\n",
    "for data in data_loader:\n",
    "    target_verts = data[1].squeeze()\n",
    "    V = np.array(target_verts, dtype=float)\n",
    "    F = np.array(smpl_model.faces, dtype=int)\n",
    "    break\n",
    "    "
   ]
  },
  {
   "cell_type": "code",
   "execution_count": null,
   "id": "b6230535",
   "metadata": {},
   "outputs": [],
   "source": [
    "## Get Smoothed Animation\n",
    "\n",
    "smoothing_steps = 10\n",
    "verbose = False\n",
    "\n",
    "v_smooth_arr = [] #v_smoothed = np.empty_like(V) (Somehow meshplot doesnt work with np)\n",
    "anim_length = V.shape[0]\n",
    "for i in range(anim_length):\n",
    "    \n",
    "    v_smooth_arr.append(V[i]) # v_smoothed[i] = V[i]\n",
    "    for j in range(smoothing_steps):\n",
    "        v_smooth_arr[i] = igl.per_vertex_attribute_smoothing(v_smooth_arr[i], F)\n",
    "             \n",
    "    if verbose:\n",
    "        if (i+1) % 10 == 0: print(\">> Step \", i+1, \"/\", anim_length)\n",
    "\n"
   ]
  },
  {
   "cell_type": "code",
   "execution_count": null,
   "id": "e40f3642",
   "metadata": {
    "scrolled": true
   },
   "outputs": [],
   "source": [
    "# PLOT THE SMOOTHED ANIMATION\n",
    "\"\"\"\n",
    "v_start = v_smooth_arr[0]\n",
    "p = mp.plot(v_start, F)\n",
    "\n",
    "for k in range(2):\n",
    "    for i in range(anim_length):\n",
    "\n",
    "        v_new = v_smooth_arr[i]\n",
    "        p.update_object(vertices=v_new)\n",
    "        v = v_new\n",
    "        time.sleep(0.1)\n",
    "\"\"\""
   ]
  },
  {
   "cell_type": "markdown",
   "id": "1cc7ebdf",
   "metadata": {},
   "source": [
    "## Experiments"
   ]
  },
  {
   "cell_type": "code",
   "execution_count": null,
   "id": "e44c02b3",
   "metadata": {},
   "outputs": [],
   "source": [
    "def generate_sine_wave(\n",
    "    amplitude: float,\n",
    "    frequency: float,\n",
    "    phase: float,\n",
    "    sampling_rate: int,\n",
    "    duration: float) -> Tuple[torch.FloatTensor, torch.FloatTensor]:\n",
    "    \"\"\"Generates a sine wave\n",
    "\n",
    "    Args:\n",
    "        amplitude (float): Amplitude\n",
    "        frequency (float): Frequnecy [Hz]\n",
    "        phase (float): Phase [rad]\n",
    "        sampling_rate (int): Sampling rate[Hz]\n",
    "        duration (float): Duration [s]\n",
    "\n",
    "    Returns:\n",
    "        Tuple[torch.FloatTensor, torch.FloatTensor]: t, y(t)\n",
    "    \"\"\"\n",
    "    total_steps = int(sampling_rate * duration)\n",
    "    t = torch.linspace(0, duration, total_steps)\n",
    "    y = amplitude * torch.sin(2 * np.pi * frequency * t + phase)\n",
    "\n",
    "    return t, y"
   ]
  },
  {
   "cell_type": "code",
   "execution_count": null,
   "id": "4dda94a4",
   "metadata": {},
   "outputs": [],
   "source": [
    "def get_fft_components(signal, fourier, sampling_rate = 1_000, plot=True):\n",
    "    absolutes = fourier.abs()\n",
    "    freq = torch.fft.rfftfreq(len(signal), 1/sampling_rate)\n",
    "    \n",
    "    if plot:\n",
    "        fig, ax = plt.subplots()\n",
    "        ax.set_xlabel('Frequencies')\n",
    "        ax.set_ylabel('$|F(s)|$')\n",
    "        ax.grid()\n",
    "        ax.scatter(x=freq, y=absolutes, s=8)\n",
    "        plt.savefig('./plots/fourier_transform_sampling_{}_{}.png'.format(sampling_rate, time.time()))\n",
    "    \n",
    "    return absolutes, freq"
   ]
  },
  {
   "cell_type": "code",
   "execution_count": null,
   "id": "bd6643e9",
   "metadata": {},
   "outputs": [],
   "source": [
    "V_smooth_tensor = torch.from_numpy(np.array(v_smooth_arr))\n",
    "V_tensor = torch.from_numpy(V)\n",
    "\n",
    "print(V_smooth_tensor.shape, V_tensor.shape)\n"
   ]
  },
  {
   "cell_type": "code",
   "execution_count": null,
   "id": "ca874276",
   "metadata": {
    "scrolled": true
   },
   "outputs": [],
   "source": [
    "###### FFT Computation (Naive)\n",
    "\n",
    "period = V_tensor.shape[0]\n",
    "num_verts = V_tensor.shape[1]\n",
    "dims = V_tensor.shape[2]\n",
    "\n",
    "\n",
    "V_diff_anim = torch.empty_like(V_tensor)\n",
    "\n",
    "for vert in range(num_verts):\n",
    "    for dim in range(dims):\n",
    "        V_signal = V_tensor[:, vert, dim]\n",
    "        V_smooth_signal = V_smooth_tensor[:, vert, dim]\n",
    "        V_diff_signal = V_signal - V_smooth_signal\n",
    "     \n",
    "        V_diff_fourier = torch.fft.rfft(V_diff_signal, norm='forward') \n",
    "        absolutes, freqs = get_fft_components(V_diff_signal, V_diff_fourier, plot=False)\n",
    "        \n",
    "        #### RECONSTRUCT SIGNAL #########################################################\n",
    "        signal = V_diff_signal\n",
    "        sampling_rate = 1000\n",
    "        num_HPF = 100\n",
    "        \n",
    "        reconst_signal = torch.zeros(len(signal) * sampling_rate)\n",
    "        T = len(signal)\n",
    "        N = len(freqs) # N = 135\n",
    "\n",
    "        for i in range(10, 80): #int(N-num_HPF), N):#!!!!!!!!!!!!!!!!!!!!!!\n",
    "            if i > len(freqs) or i > len(absolutes):\n",
    "                break\n",
    "            f = freqs[i]\n",
    "            a = absolutes[i]\n",
    "            t, y = generate_sine_wave(amplitude=a, frequency=f, phase=0, sampling_rate=sampling_rate, duration=T)\n",
    "            reconst_signal += y\n",
    "        \n",
    "        sampled_idx = (torch.linspace(0.25, 0.75, period) * sampling_rate).long()\n",
    "        V_diff_reconst = reconst_signal[sampled_idx]\n",
    "        #################################################################################\n",
    "        V_diff_anim[:, vert, dim] = V_diff_reconst\n",
    "        \n",
    "    if (vert+1) % 100 == 0:\n",
    "        print(\">> Step \", vert+1 , \"/\", num_verts)\n",
    "\n",
    "        "
   ]
  },
  {
   "cell_type": "code",
   "execution_count": null,
   "id": "ec38707d",
   "metadata": {},
   "outputs": [],
   "source": [
    "## ATTEMPT TO COMPUTE FFT AS A BATCH -not working-\n",
    "signal = V_tensor[:, 0, 0] # a sample signal\n",
    "sampling_rate = 1000\n",
    "freq = torch.fft.rfftfreq(len(signal), 1/sampling_rate) # freqs spectrum remain the same for every vertex\n",
    "\n",
    "V_diff_signal = (V_tensor - V_smooth_tensor)\n",
    "V_diff_fourier = torch.fft.fftn(V_diff_signal, dim=2) \n",
    "\n",
    "absolutes = V_diff_fourier.abs()\n",
    "\n",
    "print(freq.shape)\n",
    "print(V_diff_fourier.shape, absolutes.shape)\n",
    " "
   ]
  },
  {
   "cell_type": "code",
   "execution_count": null,
   "id": "3e813607",
   "metadata": {},
   "outputs": [],
   "source": [
    "np.savez(\"V_diff_anim.npz\", np.array(V_diff_anim))"
   ]
  },
  {
   "cell_type": "code",
   "execution_count": null,
   "id": "fa9fc00f",
   "metadata": {
    "scrolled": true
   },
   "outputs": [],
   "source": [
    "# PLOT THE ADDED JIGGLING ANIMATION\n",
    "#V_diff_anim[:,300:,:] = 0.0\n",
    "V_diff_anim = np.array(V_diff_anim)\n",
    "\n",
    "v_start = v_smooth_arr[0]\n",
    "p = mp.plot(v_start, F)\n",
    "\n",
    "for k in range(3):\n",
    "    for i in range(anim_length):\n",
    "        \n",
    "        v_new = v_smooth_arr[i] + V_diff_anim[i]\n",
    "        p.update_object(vertices=v_new)\n",
    "        v = v_new\n",
    "        time.sleep(0.1)"
   ]
  },
  {
   "cell_type": "markdown",
   "id": "c9f002fb",
   "metadata": {},
   "source": [
    "# Visualize SMPL"
   ]
  },
  {
   "cell_type": "code",
   "execution_count": null,
   "id": "228144e5",
   "metadata": {},
   "outputs": [],
   "source": [
    "with np.load(\"V_diff_anim.npz\") as file:\n",
    "    V_diff_anim = file['arr_0']\n",
    "    print(\">> File loaded.\")"
   ]
  },
  {
   "cell_type": "code",
   "execution_count": null,
   "id": "b43eb412",
   "metadata": {},
   "outputs": [],
   "source": [
    "\n",
    "for data in data_loader:\n",
    "    beta_pose_trans_seq = data[0].squeeze().type(torch.float64)\n",
    "    betas = beta_pose_trans_seq[:,:10]\n",
    "    pose = beta_pose_trans_seq[:,10:82]\n",
    "    trans = beta_pose_trans_seq[:,82:] \n",
    "   \n",
    "    target_verts = data[1].squeeze()\n",
    "    smpl_verts, joints = smpl_model(betas, pose, trans)\n",
    "    break"
   ]
  },
  {
   "cell_type": "code",
   "execution_count": null,
   "id": "3dd2ed33",
   "metadata": {},
   "outputs": [],
   "source": [
    "v_start = np.array(smpl_verts[0])\n",
    "p = mp.plot(v_start, F)\n",
    "\n",
    "for k in range(3):\n",
    "    for i in range(anim_length):\n",
    "        \n",
    "        v_new = [np.array(smpl_verts[i])][0] + 2*V_diff_anim[i] #[][0] workaround for meshplot\n",
    "        p.update_object(vertices=v_new)\n",
    "        v = v_new\n",
    "        time.sleep(0.1)"
   ]
  },
  {
   "cell_type": "code",
   "execution_count": null,
   "id": "22adb0c5",
   "metadata": {},
   "outputs": [],
   "source": []
  }
 ],
 "metadata": {
  "kernelspec": {
   "display_name": "Python 3 (ipykernel)",
   "language": "python",
   "name": "python3"
  },
  "language_info": {
   "codemirror_mode": {
    "name": "ipython",
    "version": 3
   },
   "file_extension": ".py",
   "mimetype": "text/x-python",
   "name": "python",
   "nbconvert_exporter": "python",
   "pygments_lexer": "ipython3",
   "version": "3.9.18"
  }
 },
 "nbformat": 4,
 "nbformat_minor": 5
}
