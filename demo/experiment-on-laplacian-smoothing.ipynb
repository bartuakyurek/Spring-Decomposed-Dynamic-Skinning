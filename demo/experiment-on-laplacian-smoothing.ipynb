{
 "cells": [
  {
   "cell_type": "markdown",
   "id": "7c389918",
   "metadata": {},
   "source": [
    "## Compute Laplacian"
   ]
  },
  {
   "cell_type": "code",
   "execution_count": 1,
   "id": "d16bf43a",
   "metadata": {},
   "outputs": [],
   "source": [
    "## IMPORT LIBRARIES \n",
    "import os\n",
    "import sys\n",
    "import igl\n",
    "import time\n",
    "import torch\n",
    "import numpy as np\n",
    "import meshplot as mp\n",
    "from typing import Tuple\n",
    "import matplotlib.pyplot as plt\n",
    "\n",
    "module_path = os.path.abspath(os.path.join('..'))\n",
    "if module_path not in sys.path:\n",
    "    sys.path.append(module_path)\n",
    "\n",
    "## IMPORT SOURCE\n",
    "from smpl_torch_batch import SMPLModel"
   ]
  },
  {
   "cell_type": "code",
   "execution_count": 2,
   "id": "6bd3c570",
   "metadata": {},
   "outputs": [],
   "source": [
    "## LOAD ANIMATION DATA (ORIGINAL SCANS OF SINGLE INSTANCE)\n",
    "\n",
    "training_data = torch.load('../data/50004_dataset.pt')\n",
    "data_loader = torch.utils.data.DataLoader(training_data, batch_size=1, shuffle=False)\n",
    "\n",
    "device = \"cpu\"\n",
    "smpl_model = SMPLModel(device=device, model_path='../body_models/smpl/female/model.pkl')\n",
    "\n",
    "for data in data_loader:\n",
    "    target_verts = data[1].squeeze()\n",
    "    V = np.array(target_verts, dtype=float)\n",
    "    F = np.array(smpl_model.faces, dtype=int)\n",
    "    break\n",
    "    "
   ]
  },
  {
   "cell_type": "code",
   "execution_count": 3,
   "id": "b6230535",
   "metadata": {},
   "outputs": [],
   "source": [
    "## Get Smoothed Animation\n",
    "\n",
    "smoothing_steps = 10\n",
    "verbose = False\n",
    "\n",
    "v_smooth_arr = [] #v_smoothed = np.empty_like(V) (Somehow meshplot doesnt work with np)\n",
    "anim_length = V.shape[0]\n",
    "for i in range(anim_length):\n",
    "    \n",
    "    v_smooth_arr.append(V[i]) # v_smoothed[i] = V[i]\n",
    "    for j in range(smoothing_steps):\n",
    "        v_smooth_arr[i] = igl.per_vertex_attribute_smoothing(v_smooth_arr[i], F)\n",
    "             \n",
    "    if verbose:\n",
    "        if (i+1) % 10 == 0: print(\">> Step \", i+1, \"/\", anim_length)\n",
    "\n"
   ]
  },
  {
   "cell_type": "code",
   "execution_count": 4,
   "id": "e40f3642",
   "metadata": {
    "scrolled": true
   },
   "outputs": [
    {
     "data": {
      "application/vnd.jupyter.widget-view+json": {
       "model_id": "c3ab0f537ee046d8ac8d1a0afa1dba9d",
       "version_major": 2,
       "version_minor": 0
      },
      "text/plain": [
       "Renderer(camera=PerspectiveCamera(children=(DirectionalLight(color='white', intensity=0.6, position=(0.0363706…"
      ]
     },
     "metadata": {},
     "output_type": "display_data"
    },
    {
     "ename": "KeyboardInterrupt",
     "evalue": "",
     "output_type": "error",
     "traceback": [
      "\u001b[0;31m---------------------------------------------------------------------------\u001b[0m",
      "\u001b[0;31mKeyboardInterrupt\u001b[0m                         Traceback (most recent call last)",
      "Cell \u001b[0;32mIn[4], line 12\u001b[0m\n\u001b[1;32m     10\u001b[0m p\u001b[38;5;241m.\u001b[39mupdate_object(vertices\u001b[38;5;241m=\u001b[39mv_new)\n\u001b[1;32m     11\u001b[0m v \u001b[38;5;241m=\u001b[39m v_new\n\u001b[0;32m---> 12\u001b[0m \u001b[43mtime\u001b[49m\u001b[38;5;241;43m.\u001b[39;49m\u001b[43msleep\u001b[49m\u001b[43m(\u001b[49m\u001b[38;5;241;43m0.1\u001b[39;49m\u001b[43m)\u001b[49m\n",
      "\u001b[0;31mKeyboardInterrupt\u001b[0m: "
     ]
    }
   ],
   "source": [
    "# PLOT THE SMOOTHED ANIMATION\n",
    "\n",
    "v_start = v_smooth_arr[0]\n",
    "p = mp.plot(v_start, F)\n",
    "\n",
    "for k in range(2):\n",
    "    for i in range(anim_length):\n",
    "\n",
    "        v_new = v_smooth_arr[i]\n",
    "        p.update_object(vertices=v_new)\n",
    "        v = v_new\n",
    "        time.sleep(0.1)"
   ]
  },
  {
   "cell_type": "markdown",
   "id": "1cc7ebdf",
   "metadata": {},
   "source": [
    "## Experiments"
   ]
  },
  {
   "cell_type": "code",
   "execution_count": 5,
   "id": "e44c02b3",
   "metadata": {},
   "outputs": [],
   "source": [
    "def generate_sine_wave(\n",
    "    amplitude: float,\n",
    "    frequency: float,\n",
    "    phase: float,\n",
    "    sampling_rate: int,\n",
    "    duration: float) -> Tuple[torch.FloatTensor, torch.FloatTensor]:\n",
    "    \"\"\"Generates a sine wave\n",
    "\n",
    "    Args:\n",
    "        amplitude (float): Amplitude\n",
    "        frequency (float): Frequnecy [Hz]\n",
    "        phase (float): Phase [rad]\n",
    "        sampling_rate (int): Sampling rate[Hz]\n",
    "        duration (float): Duration [s]\n",
    "\n",
    "    Returns:\n",
    "        Tuple[torch.FloatTensor, torch.FloatTensor]: t, y(t)\n",
    "    \"\"\"\n",
    "    total_steps = int(sampling_rate * duration)\n",
    "    t = torch.linspace(0, duration, total_steps)\n",
    "    y = amplitude * torch.sin(2 * np.pi * frequency * t + phase)\n",
    "\n",
    "    return t, y"
   ]
  },
  {
   "cell_type": "code",
   "execution_count": 40,
   "id": "4dda94a4",
   "metadata": {},
   "outputs": [],
   "source": [
    "def plot_fft(signal, fourier, sampling_rate = 1_000):\n",
    "    absolutes = fourier.abs()\n",
    "    freq = torch.fft.rfftfreq(len(signal), 1/sampling_rate)\n",
    "    \n",
    "    fig, ax = plt.subplots()\n",
    "    ax.set_xlabel('Frequencies')\n",
    "    ax.set_ylabel('$|F(s)|$')\n",
    "    ax.grid()\n",
    "    ax.scatter(x=freq, y=absolutes, s=8)\n",
    "\n",
    "    plt.savefig('./plots/fourier_transform_sampling_{}_{}.png'.format(sampling_rate, time.time()))\n",
    "    \n",
    "    return absolutes, freq"
   ]
  },
  {
   "cell_type": "code",
   "execution_count": 35,
   "id": "bd6643e9",
   "metadata": {},
   "outputs": [
    {
     "name": "stdout",
     "output_type": "stream",
     "text": [
      "torch.Size([268, 6890, 3]) torch.Size([268, 6890, 3])\n"
     ]
    }
   ],
   "source": [
    "V_smooth_tensor = torch.from_numpy(np.array(v_smooth_arr))\n",
    "V_tensor = torch.from_numpy(V)\n",
    "\n",
    "print(V_smooth_tensor.shape, V_tensor.shape)\n"
   ]
  },
  {
   "cell_type": "code",
   "execution_count": 42,
   "id": "ca874276",
   "metadata": {},
   "outputs": [
    {
     "data": {
      "image/png": "[encoded data removed]",
      "text/plain": [
       "<Figure size 640x480 with 1 Axes>"
      ]
     },
     "metadata": {},
     "output_type": "display_data"
    }
   ],
   "source": [
    "anim_length = V_tensor.shape[0]\n",
    "for frame in range(anim_length):\n",
    "    for dim in range(3):\n",
    "        V_signal = V_tensor[frame, :, dim]\n",
    "        V_smooth_signal = V_smooth_tensor[frame, :, dim]\n",
    "        V_diff_signal = V_signal - V_smooth_signal\n",
    "        \n",
    "        V_fourier = torch.fft.rfft(V_signal, norm='forward')\n",
    "        V_smooth_fourier = torch.fft.rfft(V_smooth_signal, norm='forward')\n",
    "        V_diff_fourier = torch.fft.rfft(V_diff_signal, norm='forward')\n",
    "        \n",
    "        absolutes, freqs = plot_fft(V_diff_signal, V_diff_fourier)\n",
    "        \n",
    "        break\n",
    "    \n",
    "    break"
   ]
  },
  {
   "cell_type": "code",
   "execution_count": null,
   "id": "10c1646f",
   "metadata": {},
   "outputs": [],
   "source": [
    "signal = V_diff_signal\n",
    "sampling_rate = 1000\n",
    "\n",
    "reconst_signal = torch.zeros(len(signal) * sampling_rate)\n",
    "T = len(signal)\n",
    "N = len(freqs)\n",
    "\n",
    "for i in range(int(N-100), N):\n",
    "    if i > len(freq) or i > len(absolutes):\n",
    "        break\n",
    "    f = freq[i]\n",
    "    a = absolutes[i]\n",
    "    t, y = generate_sine_wave(amplitude=a, frequency=f, phase=0, sampling_rate=sampling_rate, duration=T)\n",
    "    reconst_signal += y"
   ]
  },
  {
   "cell_type": "code",
   "execution_count": 53,
   "id": "c16fc95d",
   "metadata": {},
   "outputs": [
    {
     "name": "stdout",
     "output_type": "stream",
     "text": [
      "torch.Size([6890])\n"
     ]
    }
   ],
   "source": [
    "period = V.shape[1]\n",
    "sampled_idx = (torch.linspace(0.25, 0.75, period) * sampling_rate).long()\n",
    "\n",
    "print(reconst_signal[sampled_idx].shape)\n",
    "V_diff_reconst = reconst_signal[sampled_idx]"
   ]
  },
  {
   "cell_type": "code",
   "execution_count": null,
   "id": "74116cfa",
   "metadata": {},
   "outputs": [],
   "source": [
    "# PLOT THE ADDED JIGGLING ANIMATION\n",
    "\n",
    "v_start = v_smooth_arr[0]\n",
    "p = mp.plot(v_start, F)\n",
    "\n",
    "for k in range(2):\n",
    "    for i in range(anim_length):\n",
    "\n",
    "        v_new = v_smooth_arr[i] \n",
    "        p.update_object(vertices=v_new)\n",
    "        v = v_new\n",
    "        time.sleep(0.1)"
   ]
  }
 ],
 "metadata": {
  "kernelspec": {
   "display_name": "Python 3 (ipykernel)",
   "language": "python",
   "name": "python3"
  },
  "language_info": {
   "codemirror_mode": {
    "name": "ipython",
    "version": 3
   },
   "file_extension": ".py",
   "mimetype": "text/x-python",
   "name": "python",
   "nbconvert_exporter": "python",
   "pygments_lexer": "ipython3",
   "version": "3.9.18"
  }
 },
 "nbformat": 4,
 "nbformat_minor": 5
}
