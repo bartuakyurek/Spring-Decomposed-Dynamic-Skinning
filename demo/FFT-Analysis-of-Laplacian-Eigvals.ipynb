{
 "cells": [
  {
   "cell_type": "markdown",
   "id": "7c389918",
   "metadata": {},
   "source": [
    "## Compute Laplacian"
   ]
  },
  {
   "cell_type": "code",
   "execution_count": 1,
   "id": "d16bf43a",
   "metadata": {},
   "outputs": [],
   "source": [
    "## IMPORT LIBRARIES \n",
    "import os\n",
    "import sys\n",
    "import igl\n",
    "import time\n",
    "import torch\n",
    "import numpy as np\n",
    "import meshplot as mp\n",
    "from typing import Tuple\n",
    "import matplotlib.pyplot as plt\n",
    "\n",
    "module_path = os.path.abspath(os.path.join('..'))\n",
    "if module_path not in sys.path:\n",
    "    sys.path.append(module_path)\n",
    "\n",
    "## IMPORT SOURCE\n",
    "from smpl_torch_batch import SMPLModel"
   ]
  },
  {
   "cell_type": "code",
   "execution_count": 2,
   "id": "6bd3c570",
   "metadata": {},
   "outputs": [],
   "source": [
    "## LOAD ANIMATION DATA (ORIGINAL SCANS OF SINGLE INSTANCE)\n",
    "\n",
    "training_data = torch.load('../data/50004_dataset.pt')\n",
    "data_loader = torch.utils.data.DataLoader(training_data, batch_size=1, shuffle=False)\n",
    "\n",
    "device = \"cpu\"\n",
    "smpl_model = SMPLModel(device=device, model_path='../body_models/smpl/female/model.pkl')\n",
    "\n",
    "for data in data_loader:\n",
    "    target_verts = data[1].squeeze()\n",
    "    V = np.array(target_verts, dtype=float)\n",
    "    F = np.array(smpl_model.faces, dtype=int)\n",
    "    break\n",
    "\n",
    "frames = 20\n",
    "with np.load(f\"../results/eigdecomp_batch_{frames}_frames.npz\") as file:\n",
    "    V_selected = file['arr_0']\n",
    "    eigvals = file['arr_3']\n",
    "    eigvecs = file['arr_4']\n",
    "    "
   ]
  },
  {
   "cell_type": "markdown",
   "id": "1cc7ebdf",
   "metadata": {},
   "source": [
    "## Experiments"
   ]
  },
  {
   "cell_type": "code",
   "execution_count": 3,
   "id": "e44c02b3",
   "metadata": {},
   "outputs": [],
   "source": [
    "def generate_sine_wave(\n",
    "    amplitude: float,\n",
    "    frequency: float,\n",
    "    phase: float,\n",
    "    sampling_rate: int,\n",
    "    duration: float) -> Tuple[torch.FloatTensor, torch.FloatTensor]:\n",
    "    \"\"\"Generates a sine wave\n",
    "\n",
    "    Args:\n",
    "        amplitude (float): Amplitude\n",
    "        frequency (float): Frequnecy [Hz]\n",
    "        phase (float): Phase [rad]\n",
    "        sampling_rate (int): Sampling rate[Hz]\n",
    "        duration (float): Duration [s]\n",
    "\n",
    "    Returns:\n",
    "        Tuple[torch.FloatTensor, torch.FloatTensor]: t, y(t)\n",
    "    \"\"\"\n",
    "    total_steps = int(sampling_rate * duration)\n",
    "    t = torch.linspace(0, duration, total_steps)\n",
    "    y = amplitude * torch.sin(2 * np.pi * frequency * t + phase)\n",
    "\n",
    "    return t, y"
   ]
  },
  {
   "cell_type": "code",
   "execution_count": 4,
   "id": "4dda94a4",
   "metadata": {},
   "outputs": [],
   "source": [
    "def get_fft_components(signal, fourier, sampling_rate = 1_000, plot=True):\n",
    "    absolutes = fourier.abs()\n",
    "    freq = torch.fft.rfftfreq(len(signal), 1/sampling_rate)\n",
    "    \n",
    "    if plot:\n",
    "        fig, ax = plt.subplots()\n",
    "        ax.set_xlabel('Frequencies')\n",
    "        ax.set_ylabel('$|F(s)|$')\n",
    "        ax.grid()\n",
    "        ax.scatter(x=freq, y=absolutes, s=8)\n",
    "        plt.savefig('./plots/fourier_transform_sampling_{}_{}.png'.format(sampling_rate, time.time()))\n",
    "    \n",
    "    return absolutes, freq"
   ]
  },
  {
   "cell_type": "code",
   "execution_count": 5,
   "id": "bd6643e9",
   "metadata": {},
   "outputs": [
    {
     "name": "stdout",
     "output_type": "stream",
     "text": [
      "torch.Size([20, 6890, 3]) torch.Size([20, 10]) torch.Size([20, 6890, 10])\n"
     ]
    }
   ],
   "source": [
    "num_eigvals = eigvals.shape[1]\n",
    "num_verts = V_selected.shape[1]\n",
    "duration = V_selected.shape[0]\n",
    "\n",
    "V_tensor = torch.from_numpy(V_selected)\n",
    "eigvals_tensor = torch.from_numpy(eigvals.real)\n",
    "eigvecs_tensor = torch.from_numpy(eigvecs.real)\n",
    "\n",
    "print(V_tensor.shape, eigvals_tensor.shape, eigvecs_tensor.shape)"
   ]
  },
  {
   "cell_type": "code",
   "execution_count": 9,
   "id": "fae71922",
   "metadata": {},
   "outputs": [],
   "source": [
    "\n",
    "def get_fft_batch(signal_batch, verbose_idx=-1):\n",
    "    \"\"\"\n",
    "    Signal_batch: nd.array has shape (num_frames, num_verts, num_eigvals)\n",
    "    \n",
    "    \"\"\"\n",
    "    \n",
    "    first_dim = signal_batch.shape[1]\n",
    "    second_dim = signal_batch.shape[2]\n",
    "    \n",
    "    fft_batch = []\n",
    "    for i in range(first_dim):\n",
    "        eigvecs_abs = []\n",
    "        eigvecs_freqs = []\n",
    "        for j in range(second_dim):\n",
    "            signal = signal_batch[:, i, j]\n",
    "\n",
    "            signal_fourier = torch.fft.rfft(signal, norm='forward') \n",
    "            absolutes, freqs = get_fft_components(signal, signal_fourier, plot=False)\n",
    "\n",
    "            eigvecs_freqs.append(freqs)\n",
    "            eigvecs_abs.append(absolutes)\n",
    "            \n",
    "        fft_batch.append((eigvecs_freqs, eigvecs_abs))       \n",
    "        if verbose_idx > 0:\n",
    "            if (i+1) % verbose_idx == 0:\n",
    "                print(\">> Step \", i+1 , \"/\", first_dim)\n",
    "    \n",
    "    return fft_batch"
   ]
  },
  {
   "cell_type": "code",
   "execution_count": 10,
   "id": "8f3be2b9",
   "metadata": {},
   "outputs": [],
   "source": [
    "eigdecomp_anim = get_fft_batch(eigvecs_tensor)\n",
    "#anim_classic_fft = get_fft_batch(torch.from_numpy(V))"
   ]
  },
  {
   "cell_type": "code",
   "execution_count": 11,
   "id": "fbb463e5",
   "metadata": {},
   "outputs": [],
   "source": [
    "def get_fft_expectation(fft_tuples):\n",
    "    \"\"\"\n",
    "    fft_tuples: Array of Tuples (freqs, abs)\n",
    "    \"\"\"\n",
    "    vertex_fft_exs= []\n",
    "    num_samples = len(fft_tuples)\n",
    "    num_freqs = len(fft_tuples[0][0])\n",
    "    \n",
    "    for sample in range(num_samples):\n",
    "        eigvecs_freqs, eigvecs_abs = fft_tuples[sample]\n",
    "        \n",
    "        expectation = 0.0\n",
    "        for freq_idx in range(num_freqs):\n",
    "            expectation += np.dot(eigvecs_freqs[freq_idx], eigvecs_abs[freq_idx])\n",
    "\n",
    "        vertex_fft_exs.append(expectation / num_freqs) # record average expectation\n",
    "        \n",
    "    return np.array(vertex_fft_exs)"
   ]
  },
  {
   "cell_type": "code",
   "execution_count": 12,
   "id": "faa70f15",
   "metadata": {},
   "outputs": [],
   "source": [
    "## GET THE EXPECTATION FOR EACH VERTEX\n",
    "#vertex_fft_exs = get_fft_expectation(anim_classic_fft) --> to check animation vertices' fft rather than laplacian \n",
    "vertex_fft_exs = get_fft_expectation(eigdecomp_anim)"
   ]
  },
  {
   "cell_type": "code",
   "execution_count": 13,
   "id": "fd8c0984",
   "metadata": {},
   "outputs": [
    {
     "data": {
      "text/plain": [
       "[<matplotlib.lines.Line2D at 0x7fbb97d5fca0>]"
      ]
     },
     "execution_count": 13,
     "metadata": {},
     "output_type": "execute_result"
    },
    {
     "data": {
      "image/png": "[encoded data removed]",
      "text/plain": [
       "<Figure size 640x480 with 1 Axes>"
      ]
     },
     "metadata": {},
     "output_type": "display_data"
    }
   ],
   "source": [
    "plt.plot(vertex_fft_exs)"
   ]
  },
  {
   "cell_type": "code",
   "execution_count": 14,
   "id": "602bcd7c",
   "metadata": {},
   "outputs": [],
   "source": [
    "#### DEFINE VERTEX SCORES\n",
    "\n",
    "vertex_scores = vertex_fft_exs"
   ]
  },
  {
   "cell_type": "code",
   "execution_count": 19,
   "id": "13bacf23",
   "metadata": {},
   "outputs": [
    {
     "name": "stdout",
     "output_type": "stream",
     "text": [
      "(6890,)\n",
      "Sanity check 1.0 = 1.0  and 0.0 = 0.0\n"
     ]
    }
   ],
   "source": [
    "#### NORMALIZE SCORES\n",
    "def normalize_array(arr):\n",
    "    normalized_arr = (arr - np.min(arr)) / (np.max(arr) - np.min(arr))\n",
    "    return normalized_arr\n",
    "\n",
    "vertex_scores_normalized = normalize_array(vertex_scores)\n",
    "print(vertex_scores_normalized.shape)\n",
    "print(\"Sanity check 1.0 =\", np.max(vertex_scores_normalized), \" and 0.0 =\", np.min(vertex_scores_normalized))"
   ]
  },
  {
   "cell_type": "code",
   "execution_count": 20,
   "id": "13726db9",
   "metadata": {},
   "outputs": [
    {
     "name": "stdout",
     "output_type": "stream",
     "text": [
      "(6890, 3)\n"
     ]
    }
   ],
   "source": [
    "#### COLOR CODE SCORES\n",
    "from matplotlib import cm\n",
    "\n",
    "\"\"\"\n",
    "# Threshold scores\n",
    "threshold_idx = vertex_scores_normalized < 0.2\n",
    "\n",
    "vertex_scores_normalized[threshold_idx] = 1.0\n",
    "vertex_scores_normalized[np.invert(threshold_idx)] = 0.0\n",
    "\"\"\"\n",
    "\n",
    "colors = cm.hot(vertex_scores_normalized)[:, :3]\n",
    "print(colors.shape)"
   ]
  },
  {
   "cell_type": "code",
   "execution_count": 21,
   "id": "fa9fc00f",
   "metadata": {
    "scrolled": true
   },
   "outputs": [
    {
     "data": {
      "application/vnd.jupyter.widget-view+json": {
       "model_id": "90ab5f142bca484abb5afbe648b12eec",
       "version_major": 2,
       "version_minor": 0
      },
      "text/plain": [
       "Renderer(camera=PerspectiveCamera(children=(DirectionalLight(color='white', intensity=0.6, position=(0.0354125…"
      ]
     },
     "metadata": {},
     "output_type": "display_data"
    }
   ],
   "source": [
    "# PLOT THE COLOR CODED VERTICES\n",
    "\n",
    "v_start = V_selected[0]\n",
    "p = mp.plot(v_start, F)\n",
    "anim_length = V_selected.shape[0]\n",
    "\n",
    "for k in range(10):\n",
    "    for i in range(anim_length):\n",
    "        \n",
    "        v_new = V_selected[i]\n",
    "        p.update_object(vertices=v_new, colors=colors)\n",
    "        v = v_new\n",
    "        time.sleep(0.1)"
   ]
  },
  {
   "cell_type": "code",
   "execution_count": null,
   "id": "8293b462",
   "metadata": {},
   "outputs": [],
   "source": []
  },
  {
   "cell_type": "code",
   "execution_count": null,
   "id": "7babc1cd",
   "metadata": {},
   "outputs": [],
   "source": []
  }
 ],
 "metadata": {
  "kernelspec": {
   "display_name": "Python 3 (ipykernel)",
   "language": "python",
   "name": "python3"
  },
  "language_info": {
   "codemirror_mode": {
    "name": "ipython",
    "version": 3
   },
   "file_extension": ".py",
   "mimetype": "text/x-python",
   "name": "python",
   "nbconvert_exporter": "python",
   "pygments_lexer": "ipython3",
   "version": "3.9.18"
  }
 },
 "nbformat": 4,
 "nbformat_minor": 5
}
