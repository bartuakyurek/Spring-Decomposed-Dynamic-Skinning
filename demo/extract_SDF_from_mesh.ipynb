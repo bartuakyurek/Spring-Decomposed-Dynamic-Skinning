{
 "cells": [
  {
   "cell_type": "markdown",
   "id": "5d7dbbac",
   "metadata": {},
   "source": [
    "# Extract and Visualize SDF Partition Regions"
   ]
  },
  {
   "cell_type": "code",
   "execution_count": 1,
   "id": "c286c379",
   "metadata": {},
   "outputs": [],
   "source": [
    "import igl\n",
    "import numpy as np\n",
    "import meshplot as mp\n",
    "\n",
    "from meshplot import plot, subplot, interact\n",
    "from meshplot import Viewer\n",
    "from ipywidgets import *"
   ]
  },
  {
   "cell_type": "code",
   "execution_count": 2,
   "id": "3f9d0c8f",
   "metadata": {},
   "outputs": [],
   "source": [
    "V, _, _, F, _, _ = igl.read_obj(\"./results/SMPL-T.obj\")"
   ]
  },
  {
   "cell_type": "code",
   "execution_count": 3,
   "id": "0a3d04d6",
   "metadata": {},
   "outputs": [],
   "source": [
    "############## GET SDF ##############################\n",
    "def get_SDF(V, F):\n",
    "    N = igl.per_vertex_normals(V, F)\n",
    "    sdf = igl.shape_diameter_function(V, F, V, N, num_samples=30)\n",
    "    return sdf\n",
    "\n",
    "def get_SDF_large(V, F, threshold_scale = 0.8, save_large_idx = False):\n",
    "   \n",
    "    sdf = get_SDF(V, F)\n",
    "    threshold = threshold_scale * np.max(sdf)\n",
    "    large_sdf_idx = np.array(np.where(sdf >= threshold))\n",
    "    \n",
    "    if save_large_idx:\n",
    "        np.savez(\"./results/large_sdf_idx.npz\", large_sdf_idx)\n",
    "        \n",
    "    return np.squeeze(large_sdf_idx), np.squeeze(sdf[large_sdf_idx])\n",
    "\n",
    "#####################################################"
   ]
  },
  {
   "cell_type": "code",
   "execution_count": 4,
   "id": "969b3c18",
   "metadata": {},
   "outputs": [],
   "source": [
    "def sample_SDF(sdf_values    : np.ndarray, \n",
    "               sdf_partition : np.ndarray, \n",
    "               num_samples   : int, \n",
    "               is_uniform    : bool = False, \n",
    "               replace       : bool = False):\n",
    "    \"\"\"\n",
    "    sdf_values: np.ndarray(float) sdf values belonging to a particular mesh region.\n",
    "    \n",
    "    sdf_partition: np.ndarray(int) indices of vertices belong to large sdf partition area.\n",
    "                   this corresponds to sdf_values such that\n",
    "                   sdf_values[0] corresponds to the vertex index sdf_partition[0]\n",
    "    \"\"\"\n",
    "    assert len(sdf_values.shape) == 1, \">> sdf_values must have shape 1, found {}\".format(len(sdf_values.shape))\n",
    "        \n",
    "    num_vals = len(sdf_values)\n",
    "    if num_samples > num_vals:\n",
    "        print(\">> WARNING: Number of samples ({}) are greater than length of the input array ({}).\"\n",
    "              .format(num_samples, num_vals))\n",
    "        print(\">>          Adjusting replace as True in this case.\")\n",
    "        replace=True\n",
    "    \n",
    "    indices = np.arange(num_vals)\n",
    "    if is_uniform:\n",
    "        sample_indices = np.random.choice(indices, size=num_samples, replace=replace)\n",
    "    else:\n",
    "        # Larger the SDF value, more likely to be chosen\n",
    "        sdf_prob = sdf_values / np.sum(sdf_values)\n",
    "        sample_indices = np.random.choice(indices, size=num_samples, replace=replace, p=sdf_prob)\n",
    "    \n",
    "    sample_indices = sample_indices\n",
    "    return sdf_partition[sample_indices], sdf_values[sample_indices.astype(int)]"
   ]
  },
  {
   "cell_type": "code",
   "execution_count": 5,
   "id": "e4d73bb2",
   "metadata": {},
   "outputs": [
    {
     "name": "stdout",
     "output_type": "stream",
     "text": [
      ">> WARNING: Number of samples (6) are greater than length of the input array (4).\n",
      ">>          Adjusting replace as True in this case.\n",
      "[6. 6. 6. 2. 2. 6.]\n",
      "[0.9 0.9 0.9 0.2 0.2 0.9]\n"
     ]
    }
   ],
   "source": [
    "def test_sample_SDF():\n",
    "    \n",
    "    sdf = np.array([0.1, 0.03, 0.2, 0.05, 0.35, 0.234, 0.9])\n",
    "    sdf_partition = np.array([6, 4, 5, 2.]) # . is to test array type errors\n",
    "    sdf_large = sdf[sdf_partition.astype(int)]\n",
    "    \n",
    "    idx, val = sample_SDF(sdf_large, sdf_partition, 6)\n",
    "    print(idx)\n",
    "    print(val)\n",
    "    \n",
    "test_sample_SDF()"
   ]
  },
  {
   "cell_type": "code",
   "execution_count": 6,
   "id": "1cf2d97a",
   "metadata": {},
   "outputs": [],
   "source": [
    "def update_mp_plot(threshold):\n",
    "    partition_idx, sdf = get_SDF_large(V, F, threshold, save_large_idx=False)\n",
    "    \n",
    "    num_springs = 40\n",
    "    sdf_sample_idx, _ = sample_SDF(sdf, partition_idx, num_springs)\n",
    "    \n",
    "    ### Define red color for vertices belong to partition \n",
    "    C = np.zeros_like(V)\n",
    "    C[partition_idx] = np.array([1.,0.,0.])\n",
    "    C[sdf_sample_idx] = np.array([0.,0.,1.])\n",
    "    \n",
    "    p.update_object(colors=C)"
   ]
  },
  {
   "cell_type": "markdown",
   "id": "aecb4190",
   "metadata": {},
   "source": [
    "## Visualize SDF"
   ]
  },
  {
   "cell_type": "code",
   "execution_count": 9,
   "id": "66af4e2d",
   "metadata": {},
   "outputs": [
    {
     "data": {
      "application/vnd.jupyter.widget-view+json": {
       "model_id": "1f6860d42583433e914f47b8027ddb52",
       "version_major": 2,
       "version_minor": 0
      },
      "text/plain": [
       "Renderer(camera=PerspectiveCamera(children=(DirectionalLight(color='white', intensity=0.6, position=(0.0125282…"
      ]
     },
     "metadata": {},
     "output_type": "display_data"
    },
    {
     "data": {
      "application/vnd.jupyter.widget-view+json": {
       "model_id": "e9b38c4129b748e691cb00f08c0f2571",
       "version_major": 2,
       "version_minor": 0
      },
      "text/plain": [
       "interactive(children=(FloatSlider(value=0.5, description='threshold', max=1.0), Output()), _dom_classes=('widg…"
      ]
     },
     "metadata": {},
     "output_type": "display_data"
    },
    {
     "data": {
      "text/plain": [
       "<function __main__.update_mp_plot(threshold)>"
      ]
     },
     "execution_count": 9,
     "metadata": {},
     "output_type": "execute_result"
    }
   ],
   "source": [
    "p = mp.plot(V, F)\n",
    "interact(update_mp_plot, threshold=(0.0,1.0,0.1))"
   ]
  },
  {
   "cell_type": "markdown",
   "id": "d71a4300",
   "metadata": {},
   "source": [
    "#  Save SDF"
   ]
  },
  {
   "cell_type": "code",
   "execution_count": 12,
   "id": "3b0e4e3b",
   "metadata": {},
   "outputs": [],
   "source": [
    "############### SAVE THE SDF DATA FOR A SINGLE THRESHOLD ##################################\n",
    "threshold = 0.8\n",
    "num_springs = 10\n",
    "\n",
    "large_idx, large_sdf = get_SDF_large(V, F, save_large_idx = True)\n",
    "sdf_sample_idx, _ = sample_SDF(large_sdf, large_idx, num_springs)\n",
    "\n",
    "np.savez(\"./results/sdf_vert_locations.npz\", V[sdf_sample_idx])\n"
   ]
  },
  {
   "cell_type": "code",
   "execution_count": null,
   "id": "bcdc51a9",
   "metadata": {},
   "outputs": [],
   "source": []
  }
 ],
 "metadata": {
  "kernelspec": {
   "display_name": "Python 3 (ipykernel)",
   "language": "python",
   "name": "python3"
  },
  "language_info": {
   "codemirror_mode": {
    "name": "ipython",
    "version": 3
   },
   "file_extension": ".py",
   "mimetype": "text/x-python",
   "name": "python",
   "nbconvert_exporter": "python",
   "pygments_lexer": "ipython3",
   "version": "3.9.18"
  }
 },
 "nbformat": 4,
 "nbformat_minor": 5
}
